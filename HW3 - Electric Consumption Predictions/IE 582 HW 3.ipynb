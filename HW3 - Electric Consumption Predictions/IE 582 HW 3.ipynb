{
 "cells": [
  {
   "cell_type": "code",
   "execution_count": 1,
   "metadata": {},
   "outputs": [],
   "source": [
    "import numpy as np\n",
    "import pandas as pd\n",
    "import matplotlib.pyplot as plt\n",
    "#import random as rd"
   ]
  },
  {
   "cell_type": "code",
   "execution_count": 2,
   "metadata": {
    "scrolled": true
   },
   "outputs": [
    {
     "name": "stdout",
     "output_type": "stream",
     "text": [
      "ISO-8859-1\n"
     ]
    }
   ],
   "source": [
    "import chardet    \n",
    "rawdata = open('GercekZamanliTuketim-01012016-30112020.csv', 'rb').read()\n",
    "result = chardet.detect(rawdata)\n",
    "charenc = result['encoding']\n",
    "print(charenc)"
   ]
  },
  {
   "cell_type": "code",
   "execution_count": 3,
   "metadata": {
    "scrolled": true
   },
   "outputs": [
    {
     "data": {
      "text/html": [
       "<div>\n",
       "<style scoped>\n",
       "    .dataframe tbody tr th:only-of-type {\n",
       "        vertical-align: middle;\n",
       "    }\n",
       "\n",
       "    .dataframe tbody tr th {\n",
       "        vertical-align: top;\n",
       "    }\n",
       "\n",
       "    .dataframe thead th {\n",
       "        text-align: right;\n",
       "    }\n",
       "</style>\n",
       "<table border=\"1\" class=\"dataframe\">\n",
       "  <thead>\n",
       "    <tr style=\"text-align: right;\">\n",
       "      <th></th>\n",
       "      <th>Date</th>\n",
       "      <th>Hour</th>\n",
       "      <th>Consumption</th>\n",
       "    </tr>\n",
       "  </thead>\n",
       "  <tbody>\n",
       "    <tr>\n",
       "      <th>0</th>\n",
       "      <td>01.01.2016</td>\n",
       "      <td>0</td>\n",
       "      <td>26277.24</td>\n",
       "    </tr>\n",
       "    <tr>\n",
       "      <th>1</th>\n",
       "      <td>01.01.2016</td>\n",
       "      <td>1</td>\n",
       "      <td>24991.82</td>\n",
       "    </tr>\n",
       "    <tr>\n",
       "      <th>2</th>\n",
       "      <td>01.01.2016</td>\n",
       "      <td>2</td>\n",
       "      <td>23532.61</td>\n",
       "    </tr>\n",
       "    <tr>\n",
       "      <th>3</th>\n",
       "      <td>01.01.2016</td>\n",
       "      <td>3</td>\n",
       "      <td>22464.78</td>\n",
       "    </tr>\n",
       "    <tr>\n",
       "      <th>4</th>\n",
       "      <td>01.01.2016</td>\n",
       "      <td>4</td>\n",
       "      <td>22002.91</td>\n",
       "    </tr>\n",
       "  </tbody>\n",
       "</table>\n",
       "</div>"
      ],
      "text/plain": [
       "         Date  Hour  Consumption\n",
       "0  01.01.2016     0     26277.24\n",
       "1  01.01.2016     1     24991.82\n",
       "2  01.01.2016     2     23532.61\n",
       "3  01.01.2016     3     22464.78\n",
       "4  01.01.2016     4     22002.91"
      ]
     },
     "execution_count": 3,
     "metadata": {},
     "output_type": "execute_result"
    }
   ],
   "source": [
    "df = pd.read_csv('GercekZamanliTuketim-01012016-30112020.csv', encoding = 'ISO-8859-1')\n",
    "df = df.rename(columns={'Tarih': 'Date', 'Saat':'Hour','Tüketim Miktarý (MWh)':'Consumption'})\n",
    "df[\"Hour\"] = df[\"Hour\"].str.replace(':00','').astype(int) #To filter it easily for the upcoming tasks.\n",
    "df[\"Consumption\"] = df[\"Consumption\"].str.replace('.','').str.replace(',','.').astype(float) #To make calculations.\n",
    "df.head(5)"
   ]
  },
  {
   "cell_type": "code",
   "execution_count": 4,
   "metadata": {},
   "outputs": [
    {
     "data": {
      "text/html": [
       "<div>\n",
       "<style scoped>\n",
       "    .dataframe tbody tr th:only-of-type {\n",
       "        vertical-align: middle;\n",
       "    }\n",
       "\n",
       "    .dataframe tbody tr th {\n",
       "        vertical-align: top;\n",
       "    }\n",
       "\n",
       "    .dataframe thead th {\n",
       "        text-align: right;\n",
       "    }\n",
       "</style>\n",
       "<table border=\"1\" class=\"dataframe\">\n",
       "  <thead>\n",
       "    <tr style=\"text-align: right;\">\n",
       "      <th></th>\n",
       "      <th>Date</th>\n",
       "      <th>Hour</th>\n",
       "      <th>Consumption</th>\n",
       "    </tr>\n",
       "  </thead>\n",
       "  <tbody>\n",
       "    <tr>\n",
       "      <th>0</th>\n",
       "      <td>2016-01-01</td>\n",
       "      <td>0</td>\n",
       "      <td>26277.24</td>\n",
       "    </tr>\n",
       "    <tr>\n",
       "      <th>1</th>\n",
       "      <td>2016-01-01</td>\n",
       "      <td>1</td>\n",
       "      <td>24991.82</td>\n",
       "    </tr>\n",
       "    <tr>\n",
       "      <th>2</th>\n",
       "      <td>2016-01-01</td>\n",
       "      <td>2</td>\n",
       "      <td>23532.61</td>\n",
       "    </tr>\n",
       "    <tr>\n",
       "      <th>3</th>\n",
       "      <td>2016-01-01</td>\n",
       "      <td>3</td>\n",
       "      <td>22464.78</td>\n",
       "    </tr>\n",
       "    <tr>\n",
       "      <th>4</th>\n",
       "      <td>2016-01-01</td>\n",
       "      <td>4</td>\n",
       "      <td>22002.91</td>\n",
       "    </tr>\n",
       "  </tbody>\n",
       "</table>\n",
       "</div>"
      ],
      "text/plain": [
       "        Date  Hour  Consumption\n",
       "0 2016-01-01     0     26277.24\n",
       "1 2016-01-01     1     24991.82\n",
       "2 2016-01-01     2     23532.61\n",
       "3 2016-01-01     3     22464.78\n",
       "4 2016-01-01     4     22002.91"
      ]
     },
     "execution_count": 4,
     "metadata": {},
     "output_type": "execute_result"
    }
   ],
   "source": [
    "df[\"Date\"]= pd.to_datetime(df[\"Date\"])\n",
    "df.head(5)"
   ]
  },
  {
   "cell_type": "markdown",
   "metadata": {},
   "source": [
    "Original data only contains objects (strings) so I manipulated columns named Date, Hour and Consumption as datetime, integer and float data, respectively. As a result, I can use consumption data to calculate for upcoming questions.  "
   ]
  },
  {
   "cell_type": "code",
   "execution_count": 5,
   "metadata": {
    "scrolled": false
   },
   "outputs": [
    {
     "name": "stdout",
     "output_type": "stream",
     "text": [
      "<class 'pandas.core.frame.DataFrame'>\n",
      "RangeIndex: 43104 entries, 0 to 43103\n",
      "Data columns (total 3 columns):\n",
      " #   Column       Non-Null Count  Dtype         \n",
      "---  ------       --------------  -----         \n",
      " 0   Date         43104 non-null  datetime64[ns]\n",
      " 1   Hour         43104 non-null  int32         \n",
      " 2   Consumption  43104 non-null  float64       \n",
      "dtypes: datetime64[ns](1), float64(1), int32(1)\n",
      "memory usage: 842.0 KB\n"
     ]
    }
   ],
   "source": [
    "df.info()"
   ]
  },
  {
   "cell_type": "markdown",
   "metadata": {},
   "source": [
    "I checked to see whether there is any null data."
   ]
  },
  {
   "cell_type": "code",
   "execution_count": 6,
   "metadata": {
    "scrolled": true
   },
   "outputs": [
    {
     "name": "stdout",
     "output_type": "stream",
     "text": [
      "False\n",
      "False\n",
      "False\n"
     ]
    }
   ],
   "source": [
    "print(df['Date'].isnull().values.any())\n",
    "print(df['Hour'].isnull().values.any())\n",
    "print(df['Consumption'].isnull().values.any())"
   ]
  },
  {
   "cell_type": "code",
   "execution_count": 7,
   "metadata": {
    "scrolled": true
   },
   "outputs": [
    {
     "data": {
      "text/plain": [
       "2017-03-24    24\n",
       "2017-04-16    24\n",
       "2016-08-21    24\n",
       "2018-12-03    24\n",
       "2017-10-01    24\n",
       "              ..\n",
       "2018-02-28    24\n",
       "2020-03-15    24\n",
       "2018-01-29    24\n",
       "2016-06-06    24\n",
       "2016-10-23    24\n",
       "Name: Date, Length: 1796, dtype: int64"
      ]
     },
     "execution_count": 7,
     "metadata": {},
     "output_type": "execute_result"
    }
   ],
   "source": [
    "df[\"Date\"].value_counts()"
   ]
  },
  {
   "cell_type": "markdown",
   "metadata": {},
   "source": [
    "Each of the dates has 24 hours."
   ]
  },
  {
   "cell_type": "code",
   "execution_count": 8,
   "metadata": {},
   "outputs": [
    {
     "data": {
      "text/plain": [
       "4     1797\n",
       "23    1796\n",
       "22    1796\n",
       "1     1796\n",
       "2     1796\n",
       "5     1796\n",
       "6     1796\n",
       "7     1796\n",
       "8     1796\n",
       "9     1796\n",
       "10    1796\n",
       "11    1796\n",
       "12    1796\n",
       "13    1796\n",
       "14    1796\n",
       "15    1796\n",
       "16    1796\n",
       "17    1796\n",
       "18    1796\n",
       "19    1796\n",
       "20    1796\n",
       "21    1796\n",
       "0     1796\n",
       "3     1795\n",
       "Name: Hour, dtype: int64"
      ]
     },
     "execution_count": 8,
     "metadata": {},
     "output_type": "execute_result"
    }
   ],
   "source": [
    "df[\"Hour\"].value_counts()"
   ]
  },
  {
   "cell_type": "markdown",
   "metadata": {},
   "source": [
    "It seems like there is misinformation in the data. To locate misleading data, I counted the dates for 04:00."
   ]
  },
  {
   "cell_type": "code",
   "execution_count": 9,
   "metadata": {
    "scrolled": false
   },
   "outputs": [
    {
     "data": {
      "text/plain": [
       "2016-03-27    2\n",
       "2018-01-05    1\n",
       "2016-02-02    1\n",
       "2020-05-15    1\n",
       "2020-07-26    1\n",
       "             ..\n",
       "2017-10-24    1\n",
       "2018-06-25    1\n",
       "2018-03-12    1\n",
       "2018-04-16    1\n",
       "2020-10-02    1\n",
       "Name: Date, Length: 1796, dtype: int64"
      ]
     },
     "execution_count": 9,
     "metadata": {},
     "output_type": "execute_result"
    }
   ],
   "source": [
    "df.loc[df[\"Hour\"]==4,\"Date\"].value_counts()"
   ]
  },
  {
   "cell_type": "code",
   "execution_count": 10,
   "metadata": {},
   "outputs": [
    {
     "data": {
      "text/html": [
       "<div>\n",
       "<style scoped>\n",
       "    .dataframe tbody tr th:only-of-type {\n",
       "        vertical-align: middle;\n",
       "    }\n",
       "\n",
       "    .dataframe tbody tr th {\n",
       "        vertical-align: top;\n",
       "    }\n",
       "\n",
       "    .dataframe thead th {\n",
       "        text-align: right;\n",
       "    }\n",
       "</style>\n",
       "<table border=\"1\" class=\"dataframe\">\n",
       "  <thead>\n",
       "    <tr style=\"text-align: right;\">\n",
       "      <th></th>\n",
       "      <th>Date</th>\n",
       "      <th>Hour</th>\n",
       "      <th>Consumption</th>\n",
       "    </tr>\n",
       "  </thead>\n",
       "  <tbody>\n",
       "    <tr>\n",
       "      <th>2064</th>\n",
       "      <td>2016-03-27</td>\n",
       "      <td>0</td>\n",
       "      <td>27424.42</td>\n",
       "    </tr>\n",
       "    <tr>\n",
       "      <th>2065</th>\n",
       "      <td>2016-03-27</td>\n",
       "      <td>1</td>\n",
       "      <td>25949.63</td>\n",
       "    </tr>\n",
       "    <tr>\n",
       "      <th>2066</th>\n",
       "      <td>2016-03-27</td>\n",
       "      <td>2</td>\n",
       "      <td>0.00</td>\n",
       "    </tr>\n",
       "    <tr>\n",
       "      <th>2067</th>\n",
       "      <td>2016-03-27</td>\n",
       "      <td>4</td>\n",
       "      <td>24776.94</td>\n",
       "    </tr>\n",
       "    <tr>\n",
       "      <th>2068</th>\n",
       "      <td>2016-03-27</td>\n",
       "      <td>4</td>\n",
       "      <td>24776.94</td>\n",
       "    </tr>\n",
       "  </tbody>\n",
       "</table>\n",
       "</div>"
      ],
      "text/plain": [
       "           Date  Hour  Consumption\n",
       "2064 2016-03-27     0     27424.42\n",
       "2065 2016-03-27     1     25949.63\n",
       "2066 2016-03-27     2         0.00\n",
       "2067 2016-03-27     4     24776.94\n",
       "2068 2016-03-27     4     24776.94"
      ]
     },
     "execution_count": 10,
     "metadata": {},
     "output_type": "execute_result"
    }
   ],
   "source": [
    "df.loc[df[\"Date\"]==\"2016-03-27\"].head(5)"
   ]
  },
  {
   "cell_type": "markdown",
   "metadata": {},
   "source": [
    "The consumption value of 03:00 is missing and the consumption value of 04:00 is repeating itself. Therefore, I replaced the first repeating hour and its consumption value with 03:00 and mean of consumption value at 03:00.\n",
    "\n",
    "Now misleading data is cleaned from original data."
   ]
  },
  {
   "cell_type": "code",
   "execution_count": 11,
   "metadata": {},
   "outputs": [
    {
     "data": {
      "text/html": [
       "<div>\n",
       "<style scoped>\n",
       "    .dataframe tbody tr th:only-of-type {\n",
       "        vertical-align: middle;\n",
       "    }\n",
       "\n",
       "    .dataframe tbody tr th {\n",
       "        vertical-align: top;\n",
       "    }\n",
       "\n",
       "    .dataframe thead th {\n",
       "        text-align: right;\n",
       "    }\n",
       "</style>\n",
       "<table border=\"1\" class=\"dataframe\">\n",
       "  <thead>\n",
       "    <tr style=\"text-align: right;\">\n",
       "      <th></th>\n",
       "      <th>Date</th>\n",
       "      <th>Hour</th>\n",
       "      <th>Consumption</th>\n",
       "    </tr>\n",
       "  </thead>\n",
       "  <tbody>\n",
       "    <tr>\n",
       "      <th>2064</th>\n",
       "      <td>2016-03-27</td>\n",
       "      <td>0</td>\n",
       "      <td>27424.420000</td>\n",
       "    </tr>\n",
       "    <tr>\n",
       "      <th>2065</th>\n",
       "      <td>2016-03-27</td>\n",
       "      <td>1</td>\n",
       "      <td>25949.630000</td>\n",
       "    </tr>\n",
       "    <tr>\n",
       "      <th>2066</th>\n",
       "      <td>2016-03-27</td>\n",
       "      <td>2</td>\n",
       "      <td>0.000000</td>\n",
       "    </tr>\n",
       "    <tr>\n",
       "      <th>2067</th>\n",
       "      <td>2016-03-27</td>\n",
       "      <td>3</td>\n",
       "      <td>27720.540557</td>\n",
       "    </tr>\n",
       "    <tr>\n",
       "      <th>2068</th>\n",
       "      <td>2016-03-27</td>\n",
       "      <td>4</td>\n",
       "      <td>24776.940000</td>\n",
       "    </tr>\n",
       "  </tbody>\n",
       "</table>\n",
       "</div>"
      ],
      "text/plain": [
       "           Date  Hour   Consumption\n",
       "2064 2016-03-27     0  27424.420000\n",
       "2065 2016-03-27     1  25949.630000\n",
       "2066 2016-03-27     2      0.000000\n",
       "2067 2016-03-27     3  27720.540557\n",
       "2068 2016-03-27     4  24776.940000"
      ]
     },
     "execution_count": 11,
     "metadata": {},
     "output_type": "execute_result"
    }
   ],
   "source": [
    "df.loc[df[\"Date\"]==\"2016-03-27\"]\n",
    "df.iloc[2067,2] = df.loc[df[\"Hour\"]==3,\"Consumption\"].mean()\n",
    "df.iloc[2067,1] = 3\n",
    "df.loc[df[\"Date\"]==\"2016-03-27\"].head(5)"
   ]
  },
  {
   "cell_type": "markdown",
   "metadata": {},
   "source": [
    "To establish dataframe with lagged data, I simply shifted the dates as new columns and then I located between row number 45 and 170 in order to see visually if I could achieved concatenate data correctly."
   ]
  },
  {
   "cell_type": "code",
   "execution_count": 12,
   "metadata": {
    "scrolled": true
   },
   "outputs": [
    {
     "data": {
      "text/html": [
       "<div>\n",
       "<style scoped>\n",
       "    .dataframe tbody tr th:only-of-type {\n",
       "        vertical-align: middle;\n",
       "    }\n",
       "\n",
       "    .dataframe tbody tr th {\n",
       "        vertical-align: top;\n",
       "    }\n",
       "\n",
       "    .dataframe thead th {\n",
       "        text-align: right;\n",
       "    }\n",
       "</style>\n",
       "<table border=\"1\" class=\"dataframe\">\n",
       "  <thead>\n",
       "    <tr style=\"text-align: right;\">\n",
       "      <th></th>\n",
       "      <th>Date</th>\n",
       "      <th>Hour</th>\n",
       "      <th>Consumption</th>\n",
       "      <th>Date</th>\n",
       "      <th>Hour</th>\n",
       "      <th>Consumption</th>\n",
       "      <th>Date</th>\n",
       "      <th>Hour</th>\n",
       "      <th>Consumption</th>\n",
       "    </tr>\n",
       "  </thead>\n",
       "  <tbody>\n",
       "    <tr>\n",
       "      <th>45</th>\n",
       "      <td>2016-02-01</td>\n",
       "      <td>21</td>\n",
       "      <td>31049.20</td>\n",
       "      <td>NaT</td>\n",
       "      <td>NaN</td>\n",
       "      <td>NaN</td>\n",
       "      <td>NaT</td>\n",
       "      <td>NaN</td>\n",
       "      <td>NaN</td>\n",
       "    </tr>\n",
       "    <tr>\n",
       "      <th>46</th>\n",
       "      <td>2016-02-01</td>\n",
       "      <td>22</td>\n",
       "      <td>30906.43</td>\n",
       "      <td>NaT</td>\n",
       "      <td>NaN</td>\n",
       "      <td>NaN</td>\n",
       "      <td>NaT</td>\n",
       "      <td>NaN</td>\n",
       "      <td>NaN</td>\n",
       "    </tr>\n",
       "    <tr>\n",
       "      <th>47</th>\n",
       "      <td>2016-02-01</td>\n",
       "      <td>23</td>\n",
       "      <td>29621.09</td>\n",
       "      <td>NaT</td>\n",
       "      <td>NaN</td>\n",
       "      <td>NaN</td>\n",
       "      <td>NaT</td>\n",
       "      <td>NaN</td>\n",
       "      <td>NaN</td>\n",
       "    </tr>\n",
       "    <tr>\n",
       "      <th>48</th>\n",
       "      <td>2016-03-01</td>\n",
       "      <td>0</td>\n",
       "      <td>27613.96</td>\n",
       "      <td>2016-01-01</td>\n",
       "      <td>0.0</td>\n",
       "      <td>26277.24</td>\n",
       "      <td>NaT</td>\n",
       "      <td>NaN</td>\n",
       "      <td>NaN</td>\n",
       "    </tr>\n",
       "    <tr>\n",
       "      <th>49</th>\n",
       "      <td>2016-03-01</td>\n",
       "      <td>1</td>\n",
       "      <td>25779.28</td>\n",
       "      <td>2016-01-01</td>\n",
       "      <td>1.0</td>\n",
       "      <td>24991.82</td>\n",
       "      <td>NaT</td>\n",
       "      <td>NaN</td>\n",
       "      <td>NaN</td>\n",
       "    </tr>\n",
       "    <tr>\n",
       "      <th>...</th>\n",
       "      <td>...</td>\n",
       "      <td>...</td>\n",
       "      <td>...</td>\n",
       "      <td>...</td>\n",
       "      <td>...</td>\n",
       "      <td>...</td>\n",
       "      <td>...</td>\n",
       "      <td>...</td>\n",
       "      <td>...</td>\n",
       "    </tr>\n",
       "    <tr>\n",
       "      <th>165</th>\n",
       "      <td>2016-07-01</td>\n",
       "      <td>21</td>\n",
       "      <td>32638.14</td>\n",
       "      <td>2016-05-01</td>\n",
       "      <td>21.0</td>\n",
       "      <td>33400.82</td>\n",
       "      <td>NaT</td>\n",
       "      <td>NaN</td>\n",
       "      <td>NaN</td>\n",
       "    </tr>\n",
       "    <tr>\n",
       "      <th>166</th>\n",
       "      <td>2016-07-01</td>\n",
       "      <td>22</td>\n",
       "      <td>32739.98</td>\n",
       "      <td>2016-05-01</td>\n",
       "      <td>22.0</td>\n",
       "      <td>33359.37</td>\n",
       "      <td>NaT</td>\n",
       "      <td>NaN</td>\n",
       "      <td>NaN</td>\n",
       "    </tr>\n",
       "    <tr>\n",
       "      <th>167</th>\n",
       "      <td>2016-07-01</td>\n",
       "      <td>23</td>\n",
       "      <td>31092.87</td>\n",
       "      <td>2016-05-01</td>\n",
       "      <td>23.0</td>\n",
       "      <td>31629.97</td>\n",
       "      <td>NaT</td>\n",
       "      <td>NaN</td>\n",
       "      <td>NaN</td>\n",
       "    </tr>\n",
       "    <tr>\n",
       "      <th>168</th>\n",
       "      <td>2016-08-01</td>\n",
       "      <td>0</td>\n",
       "      <td>28602.02</td>\n",
       "      <td>2016-06-01</td>\n",
       "      <td>0.0</td>\n",
       "      <td>29189.27</td>\n",
       "      <td>2016-01-01</td>\n",
       "      <td>0.0</td>\n",
       "      <td>26277.24</td>\n",
       "    </tr>\n",
       "    <tr>\n",
       "      <th>169</th>\n",
       "      <td>2016-08-01</td>\n",
       "      <td>1</td>\n",
       "      <td>27112.37</td>\n",
       "      <td>2016-06-01</td>\n",
       "      <td>1.0</td>\n",
       "      <td>27614.02</td>\n",
       "      <td>2016-01-01</td>\n",
       "      <td>1.0</td>\n",
       "      <td>24991.82</td>\n",
       "    </tr>\n",
       "  </tbody>\n",
       "</table>\n",
       "<p>125 rows × 9 columns</p>\n",
       "</div>"
      ],
      "text/plain": [
       "          Date  Hour  Consumption       Date  Hour  Consumption       Date  \\\n",
       "45  2016-02-01    21     31049.20        NaT   NaN          NaN        NaT   \n",
       "46  2016-02-01    22     30906.43        NaT   NaN          NaN        NaT   \n",
       "47  2016-02-01    23     29621.09        NaT   NaN          NaN        NaT   \n",
       "48  2016-03-01     0     27613.96 2016-01-01   0.0     26277.24        NaT   \n",
       "49  2016-03-01     1     25779.28 2016-01-01   1.0     24991.82        NaT   \n",
       "..         ...   ...          ...        ...   ...          ...        ...   \n",
       "165 2016-07-01    21     32638.14 2016-05-01  21.0     33400.82        NaT   \n",
       "166 2016-07-01    22     32739.98 2016-05-01  22.0     33359.37        NaT   \n",
       "167 2016-07-01    23     31092.87 2016-05-01  23.0     31629.97        NaT   \n",
       "168 2016-08-01     0     28602.02 2016-06-01   0.0     29189.27 2016-01-01   \n",
       "169 2016-08-01     1     27112.37 2016-06-01   1.0     27614.02 2016-01-01   \n",
       "\n",
       "     Hour  Consumption  \n",
       "45    NaN          NaN  \n",
       "46    NaN          NaN  \n",
       "47    NaN          NaN  \n",
       "48    NaN          NaN  \n",
       "49    NaN          NaN  \n",
       "..    ...          ...  \n",
       "165   NaN          NaN  \n",
       "166   NaN          NaN  \n",
       "167   NaN          NaN  \n",
       "168   0.0     26277.24  \n",
       "169   1.0     24991.82  \n",
       "\n",
       "[125 rows x 9 columns]"
      ]
     },
     "execution_count": 12,
     "metadata": {},
     "output_type": "execute_result"
    }
   ],
   "source": [
    "lag_df = pd.concat([df, df.shift(48), df.shift(168)], axis=1)\n",
    "lag_df.iloc[45:170]"
   ]
  },
  {
   "cell_type": "markdown",
   "metadata": {},
   "source": [
    "Since there is not any data before 2016-01-01, the first week (first 168 row) includes empty data. "
   ]
  },
  {
   "cell_type": "code",
   "execution_count": 13,
   "metadata": {
    "scrolled": true
   },
   "outputs": [
    {
     "name": "stdout",
     "output_type": "stream",
     "text": [
      "True\n",
      "True\n",
      "True\n"
     ]
    }
   ],
   "source": [
    "print(lag_df['Date'].isnull().values.any())\n",
    "print(lag_df['Hour'].isnull().values.any())\n",
    "print(lag_df['Consumption'].isnull().values.any())"
   ]
  },
  {
   "cell_type": "markdown",
   "metadata": {},
   "source": [
    "There may be lots of way to manipulate the null data. For example, it can be replaced with zeros or with hourly or weekly average data. I preferred to erase the related week since it is insignificant when it is compared to 5 year. To double check if there is any other data lost, I calculate them manually. There was 43.104 rows at the beginning and there should only be 168 null data. As a result, there should be 42.936 rows at the end. And, there is! "
   ]
  },
  {
   "cell_type": "code",
   "execution_count": 14,
   "metadata": {
    "scrolled": true
   },
   "outputs": [
    {
     "data": {
      "text/html": [
       "<div>\n",
       "<style scoped>\n",
       "    .dataframe tbody tr th:only-of-type {\n",
       "        vertical-align: middle;\n",
       "    }\n",
       "\n",
       "    .dataframe tbody tr th {\n",
       "        vertical-align: top;\n",
       "    }\n",
       "\n",
       "    .dataframe thead th {\n",
       "        text-align: right;\n",
       "    }\n",
       "</style>\n",
       "<table border=\"1\" class=\"dataframe\">\n",
       "  <thead>\n",
       "    <tr style=\"text-align: right;\">\n",
       "      <th></th>\n",
       "      <th>Date</th>\n",
       "      <th>Hour</th>\n",
       "      <th>Consumption</th>\n",
       "      <th>Date</th>\n",
       "      <th>Hour</th>\n",
       "      <th>Consumption</th>\n",
       "      <th>Date</th>\n",
       "      <th>Hour</th>\n",
       "      <th>Consumption</th>\n",
       "    </tr>\n",
       "  </thead>\n",
       "  <tbody>\n",
       "    <tr>\n",
       "      <th>168</th>\n",
       "      <td>2016-08-01</td>\n",
       "      <td>0</td>\n",
       "      <td>28602.02</td>\n",
       "      <td>2016-06-01</td>\n",
       "      <td>0.0</td>\n",
       "      <td>29189.27</td>\n",
       "      <td>2016-01-01</td>\n",
       "      <td>0.0</td>\n",
       "      <td>26277.24</td>\n",
       "    </tr>\n",
       "    <tr>\n",
       "      <th>169</th>\n",
       "      <td>2016-08-01</td>\n",
       "      <td>1</td>\n",
       "      <td>27112.37</td>\n",
       "      <td>2016-06-01</td>\n",
       "      <td>1.0</td>\n",
       "      <td>27614.02</td>\n",
       "      <td>2016-01-01</td>\n",
       "      <td>1.0</td>\n",
       "      <td>24991.82</td>\n",
       "    </tr>\n",
       "    <tr>\n",
       "      <th>170</th>\n",
       "      <td>2016-08-01</td>\n",
       "      <td>2</td>\n",
       "      <td>25975.34</td>\n",
       "      <td>2016-06-01</td>\n",
       "      <td>2.0</td>\n",
       "      <td>26578.97</td>\n",
       "      <td>2016-01-01</td>\n",
       "      <td>2.0</td>\n",
       "      <td>23532.61</td>\n",
       "    </tr>\n",
       "    <tr>\n",
       "      <th>171</th>\n",
       "      <td>2016-08-01</td>\n",
       "      <td>3</td>\n",
       "      <td>25315.55</td>\n",
       "      <td>2016-06-01</td>\n",
       "      <td>3.0</td>\n",
       "      <td>25719.19</td>\n",
       "      <td>2016-01-01</td>\n",
       "      <td>3.0</td>\n",
       "      <td>22464.78</td>\n",
       "    </tr>\n",
       "    <tr>\n",
       "      <th>172</th>\n",
       "      <td>2016-08-01</td>\n",
       "      <td>4</td>\n",
       "      <td>25128.15</td>\n",
       "      <td>2016-06-01</td>\n",
       "      <td>4.0</td>\n",
       "      <td>25864.63</td>\n",
       "      <td>2016-01-01</td>\n",
       "      <td>4.0</td>\n",
       "      <td>22002.91</td>\n",
       "    </tr>\n",
       "  </tbody>\n",
       "</table>\n",
       "</div>"
      ],
      "text/plain": [
       "          Date  Hour  Consumption       Date  Hour  Consumption       Date  \\\n",
       "168 2016-08-01     0     28602.02 2016-06-01   0.0     29189.27 2016-01-01   \n",
       "169 2016-08-01     1     27112.37 2016-06-01   1.0     27614.02 2016-01-01   \n",
       "170 2016-08-01     2     25975.34 2016-06-01   2.0     26578.97 2016-01-01   \n",
       "171 2016-08-01     3     25315.55 2016-06-01   3.0     25719.19 2016-01-01   \n",
       "172 2016-08-01     4     25128.15 2016-06-01   4.0     25864.63 2016-01-01   \n",
       "\n",
       "     Hour  Consumption  \n",
       "168   0.0     26277.24  \n",
       "169   1.0     24991.82  \n",
       "170   2.0     23532.61  \n",
       "171   3.0     22464.78  \n",
       "172   4.0     22002.91  "
      ]
     },
     "execution_count": 14,
     "metadata": {},
     "output_type": "execute_result"
    }
   ],
   "source": [
    "lag_df.dropna(inplace = True)\n",
    "lag_df.head(5)"
   ]
  },
  {
   "cell_type": "code",
   "execution_count": 15,
   "metadata": {},
   "outputs": [],
   "source": [
    "columns = ['Date','Hour','Consumption','Lag48','Lag168']\n",
    "nlag_df = pd.DataFrame(columns=columns)\n",
    "nlag_df[\"Date\"]=lag_df.iloc[:, 0].copy()\n",
    "nlag_df[\"Hour\"]=lag_df.iloc[:, 1].copy()\n",
    "nlag_df[\"Consumption\"]=lag_df.iloc[:, 2].copy()\n",
    "nlag_df[\"Lag48\"]=lag_df.iloc[:, 5].copy()\n",
    "nlag_df[\"Lag168\"]=lag_df.iloc[:, 8].copy()"
   ]
  },
  {
   "cell_type": "markdown",
   "metadata": {},
   "source": [
    "# Section A\n",
    "Task: Assume that you are willing to use 168 and 48 hours ago consumption values as your naïve\n",
    "approaches to predict next day’s consumption. Suppose the test period includes the dates after 1st of\n",
    "November, 2020 (included). For both approaches, report the summary statistics of MAPE values\n",
    "for the test period."
   ]
  },
  {
   "cell_type": "code",
   "execution_count": 16,
   "metadata": {
    "scrolled": false
   },
   "outputs": [
    {
     "data": {
      "text/html": [
       "<div>\n",
       "<style scoped>\n",
       "    .dataframe tbody tr th:only-of-type {\n",
       "        vertical-align: middle;\n",
       "    }\n",
       "\n",
       "    .dataframe tbody tr th {\n",
       "        vertical-align: top;\n",
       "    }\n",
       "\n",
       "    .dataframe thead th {\n",
       "        text-align: right;\n",
       "    }\n",
       "</style>\n",
       "<table border=\"1\" class=\"dataframe\">\n",
       "  <thead>\n",
       "    <tr style=\"text-align: right;\">\n",
       "      <th></th>\n",
       "      <th>Date</th>\n",
       "      <th>Hour</th>\n",
       "      <th>Consumption</th>\n",
       "      <th>Lag48</th>\n",
       "      <th>Lag168</th>\n",
       "    </tr>\n",
       "  </thead>\n",
       "  <tbody>\n",
       "    <tr>\n",
       "      <th>168</th>\n",
       "      <td>2016-08-01</td>\n",
       "      <td>0</td>\n",
       "      <td>28602.02</td>\n",
       "      <td>29189.27</td>\n",
       "      <td>26277.24</td>\n",
       "    </tr>\n",
       "    <tr>\n",
       "      <th>169</th>\n",
       "      <td>2016-08-01</td>\n",
       "      <td>1</td>\n",
       "      <td>27112.37</td>\n",
       "      <td>27614.02</td>\n",
       "      <td>24991.82</td>\n",
       "    </tr>\n",
       "    <tr>\n",
       "      <th>170</th>\n",
       "      <td>2016-08-01</td>\n",
       "      <td>2</td>\n",
       "      <td>25975.34</td>\n",
       "      <td>26578.97</td>\n",
       "      <td>23532.61</td>\n",
       "    </tr>\n",
       "    <tr>\n",
       "      <th>171</th>\n",
       "      <td>2016-08-01</td>\n",
       "      <td>3</td>\n",
       "      <td>25315.55</td>\n",
       "      <td>25719.19</td>\n",
       "      <td>22464.78</td>\n",
       "    </tr>\n",
       "    <tr>\n",
       "      <th>172</th>\n",
       "      <td>2016-08-01</td>\n",
       "      <td>4</td>\n",
       "      <td>25128.15</td>\n",
       "      <td>25864.63</td>\n",
       "      <td>22002.91</td>\n",
       "    </tr>\n",
       "  </tbody>\n",
       "</table>\n",
       "</div>"
      ],
      "text/plain": [
       "          Date  Hour  Consumption     Lag48    Lag168\n",
       "168 2016-08-01     0     28602.02  29189.27  26277.24\n",
       "169 2016-08-01     1     27112.37  27614.02  24991.82\n",
       "170 2016-08-01     2     25975.34  26578.97  23532.61\n",
       "171 2016-08-01     3     25315.55  25719.19  22464.78\n",
       "172 2016-08-01     4     25128.15  25864.63  22002.91"
      ]
     },
     "execution_count": 16,
     "metadata": {},
     "output_type": "execute_result"
    }
   ],
   "source": [
    "nlag_df.head(5)"
   ]
  },
  {
   "cell_type": "code",
   "execution_count": 17,
   "metadata": {
    "scrolled": false
   },
   "outputs": [
    {
     "data": {
      "text/html": [
       "<div>\n",
       "<style scoped>\n",
       "    .dataframe tbody tr th:only-of-type {\n",
       "        vertical-align: middle;\n",
       "    }\n",
       "\n",
       "    .dataframe tbody tr th {\n",
       "        vertical-align: top;\n",
       "    }\n",
       "\n",
       "    .dataframe thead th {\n",
       "        text-align: right;\n",
       "    }\n",
       "</style>\n",
       "<table border=\"1\" class=\"dataframe\">\n",
       "  <thead>\n",
       "    <tr style=\"text-align: right;\">\n",
       "      <th></th>\n",
       "      <th>Date</th>\n",
       "      <th>Hour</th>\n",
       "      <th>Consumption</th>\n",
       "      <th>Lag48</th>\n",
       "      <th>Lag168</th>\n",
       "    </tr>\n",
       "  </thead>\n",
       "  <tbody>\n",
       "    <tr>\n",
       "      <th>42384</th>\n",
       "      <td>2020-01-11</td>\n",
       "      <td>0</td>\n",
       "      <td>28701.62</td>\n",
       "      <td>29066.51</td>\n",
       "      <td>29481.33</td>\n",
       "    </tr>\n",
       "    <tr>\n",
       "      <th>42385</th>\n",
       "      <td>2020-01-11</td>\n",
       "      <td>1</td>\n",
       "      <td>27254.15</td>\n",
       "      <td>27838.89</td>\n",
       "      <td>28002.28</td>\n",
       "    </tr>\n",
       "    <tr>\n",
       "      <th>42386</th>\n",
       "      <td>2020-01-11</td>\n",
       "      <td>2</td>\n",
       "      <td>26078.57</td>\n",
       "      <td>26940.11</td>\n",
       "      <td>27115.39</td>\n",
       "    </tr>\n",
       "    <tr>\n",
       "      <th>42387</th>\n",
       "      <td>2020-01-11</td>\n",
       "      <td>3</td>\n",
       "      <td>25449.47</td>\n",
       "      <td>26260.80</td>\n",
       "      <td>26415.11</td>\n",
       "    </tr>\n",
       "    <tr>\n",
       "      <th>42388</th>\n",
       "      <td>2020-01-11</td>\n",
       "      <td>4</td>\n",
       "      <td>25324.01</td>\n",
       "      <td>26097.96</td>\n",
       "      <td>26075.07</td>\n",
       "    </tr>\n",
       "  </tbody>\n",
       "</table>\n",
       "</div>"
      ],
      "text/plain": [
       "            Date  Hour  Consumption     Lag48    Lag168\n",
       "42384 2020-01-11     0     28701.62  29066.51  29481.33\n",
       "42385 2020-01-11     1     27254.15  27838.89  28002.28\n",
       "42386 2020-01-11     2     26078.57  26940.11  27115.39\n",
       "42387 2020-01-11     3     25449.47  26260.80  26415.11\n",
       "42388 2020-01-11     4     25324.01  26097.96  26075.07"
      ]
     },
     "execution_count": 17,
     "metadata": {},
     "output_type": "execute_result"
    }
   ],
   "source": [
    "days = 30*24\n",
    "test_df = nlag_df.iloc[-days:].copy()\n",
    "test_df.head(5)"
   ]
  },
  {
   "cell_type": "code",
   "execution_count": 18,
   "metadata": {},
   "outputs": [],
   "source": [
    "#Defining MAPE function\n",
    "def MAPE(Y_actual,Y_Predicted):\n",
    "    mape = np.mean(np.abs((Y_actual - Y_Predicted)/Y_actual))*100\n",
    "    return mape"
   ]
  },
  {
   "cell_type": "code",
   "execution_count": 19,
   "metadata": {},
   "outputs": [
    {
     "name": "stdout",
     "output_type": "stream",
     "text": [
      "MAPE Value of Naive Forecasting:Lag 48 is 7.789204389494435\n",
      "MAPE Value of Naive Forecasting:Lag 168 is 3.4536690170083455\n"
     ]
    }
   ],
   "source": [
    "MAPE_lag48 = MAPE(test_df.Consumption.to_numpy(), test_df.Lag48.to_numpy())\n",
    "print(\"MAPE Value of Naive Forecasting:Lag 48 is {}\".format(MAPE_lag48))\n",
    "MAPE_lag168 = MAPE(test_df.Consumption.to_numpy(), test_df.Lag168.to_numpy())\n",
    "print(\"MAPE Value of Naive Forecasting:Lag 168 is {}\".format(MAPE_lag168))"
   ]
  },
  {
   "cell_type": "markdown",
   "metadata": {},
   "source": [
    "With the corresponding MAPE values, it seems that the naive forecasting with the data of 1 week ago has better results compared to the data of 2 days ago. We can say that the data of a week ago at the same hour is more useful for the prediction."
   ]
  },
  {
   "cell_type": "markdown",
   "metadata": {},
   "source": [
    "# Section B\n",
    "Task: Instead of using the lag consumptions in part (a) as a forecast, we would like to treat them as our features and build a linear regression model. The illustration of the data format for this prediction problem is given in Figure 1. This representation is so called “long” format. Train your model using the data till 1st of November, 2020 and test on the rest. Your linear regression model is expected to include aforementioned two features (i.e. Lag_48 and Lag_168) and an intercept. Report the summary statistics of MAPE values for the test period.\n"
   ]
  },
  {
   "cell_type": "code",
   "execution_count": 20,
   "metadata": {
    "scrolled": true
   },
   "outputs": [
    {
     "data": {
      "text/html": [
       "<div>\n",
       "<style scoped>\n",
       "    .dataframe tbody tr th:only-of-type {\n",
       "        vertical-align: middle;\n",
       "    }\n",
       "\n",
       "    .dataframe tbody tr th {\n",
       "        vertical-align: top;\n",
       "    }\n",
       "\n",
       "    .dataframe thead th {\n",
       "        text-align: right;\n",
       "    }\n",
       "</style>\n",
       "<table border=\"1\" class=\"dataframe\">\n",
       "  <thead>\n",
       "    <tr style=\"text-align: right;\">\n",
       "      <th></th>\n",
       "      <th>Date</th>\n",
       "      <th>Hour</th>\n",
       "      <th>Consumption</th>\n",
       "      <th>Lag48</th>\n",
       "      <th>Lag168</th>\n",
       "    </tr>\n",
       "  </thead>\n",
       "  <tbody>\n",
       "    <tr>\n",
       "      <th>168</th>\n",
       "      <td>2016-08-01</td>\n",
       "      <td>0</td>\n",
       "      <td>28602.02</td>\n",
       "      <td>29189.27</td>\n",
       "      <td>26277.24</td>\n",
       "    </tr>\n",
       "    <tr>\n",
       "      <th>169</th>\n",
       "      <td>2016-08-01</td>\n",
       "      <td>1</td>\n",
       "      <td>27112.37</td>\n",
       "      <td>27614.02</td>\n",
       "      <td>24991.82</td>\n",
       "    </tr>\n",
       "    <tr>\n",
       "      <th>170</th>\n",
       "      <td>2016-08-01</td>\n",
       "      <td>2</td>\n",
       "      <td>25975.34</td>\n",
       "      <td>26578.97</td>\n",
       "      <td>23532.61</td>\n",
       "    </tr>\n",
       "    <tr>\n",
       "      <th>171</th>\n",
       "      <td>2016-08-01</td>\n",
       "      <td>3</td>\n",
       "      <td>25315.55</td>\n",
       "      <td>25719.19</td>\n",
       "      <td>22464.78</td>\n",
       "    </tr>\n",
       "    <tr>\n",
       "      <th>172</th>\n",
       "      <td>2016-08-01</td>\n",
       "      <td>4</td>\n",
       "      <td>25128.15</td>\n",
       "      <td>25864.63</td>\n",
       "      <td>22002.91</td>\n",
       "    </tr>\n",
       "    <tr>\n",
       "      <th>...</th>\n",
       "      <td>...</td>\n",
       "      <td>...</td>\n",
       "      <td>...</td>\n",
       "      <td>...</td>\n",
       "      <td>...</td>\n",
       "    </tr>\n",
       "    <tr>\n",
       "      <th>42379</th>\n",
       "      <td>2020-10-31</td>\n",
       "      <td>19</td>\n",
       "      <td>35265.95</td>\n",
       "      <td>34767.13</td>\n",
       "      <td>36009.65</td>\n",
       "    </tr>\n",
       "    <tr>\n",
       "      <th>42380</th>\n",
       "      <td>2020-10-31</td>\n",
       "      <td>20</td>\n",
       "      <td>34178.92</td>\n",
       "      <td>33868.97</td>\n",
       "      <td>35062.32</td>\n",
       "    </tr>\n",
       "    <tr>\n",
       "      <th>42381</th>\n",
       "      <td>2020-10-31</td>\n",
       "      <td>21</td>\n",
       "      <td>33240.21</td>\n",
       "      <td>32670.05</td>\n",
       "      <td>33936.24</td>\n",
       "    </tr>\n",
       "    <tr>\n",
       "      <th>42382</th>\n",
       "      <td>2020-10-31</td>\n",
       "      <td>22</td>\n",
       "      <td>32159.28</td>\n",
       "      <td>31874.30</td>\n",
       "      <td>32906.62</td>\n",
       "    </tr>\n",
       "    <tr>\n",
       "      <th>42383</th>\n",
       "      <td>2020-10-31</td>\n",
       "      <td>23</td>\n",
       "      <td>30325.43</td>\n",
       "      <td>30491.26</td>\n",
       "      <td>31457.66</td>\n",
       "    </tr>\n",
       "  </tbody>\n",
       "</table>\n",
       "<p>42216 rows × 5 columns</p>\n",
       "</div>"
      ],
      "text/plain": [
       "            Date  Hour  Consumption     Lag48    Lag168\n",
       "168   2016-08-01     0     28602.02  29189.27  26277.24\n",
       "169   2016-08-01     1     27112.37  27614.02  24991.82\n",
       "170   2016-08-01     2     25975.34  26578.97  23532.61\n",
       "171   2016-08-01     3     25315.55  25719.19  22464.78\n",
       "172   2016-08-01     4     25128.15  25864.63  22002.91\n",
       "...          ...   ...          ...       ...       ...\n",
       "42379 2020-10-31    19     35265.95  34767.13  36009.65\n",
       "42380 2020-10-31    20     34178.92  33868.97  35062.32\n",
       "42381 2020-10-31    21     33240.21  32670.05  33936.24\n",
       "42382 2020-10-31    22     32159.28  31874.30  32906.62\n",
       "42383 2020-10-31    23     30325.43  30491.26  31457.66\n",
       "\n",
       "[42216 rows x 5 columns]"
      ]
     },
     "execution_count": 20,
     "metadata": {},
     "output_type": "execute_result"
    }
   ],
   "source": [
    "train_df = nlag_df.iloc[:-days].copy()\n",
    "train_df"
   ]
  },
  {
   "cell_type": "code",
   "execution_count": 21,
   "metadata": {},
   "outputs": [],
   "source": [
    "X_train = train_df[['Lag48', 'Lag168']].to_numpy()\n",
    "y_train = train_df[['Consumption']].to_numpy()\n",
    "X_test = test_df[['Lag48', 'Lag168']].to_numpy()\n",
    "y_test = test_df[['Consumption']].to_numpy()"
   ]
  },
  {
   "cell_type": "code",
   "execution_count": 22,
   "metadata": {},
   "outputs": [],
   "source": [
    "from sklearn.linear_model import LinearRegression"
   ]
  },
  {
   "cell_type": "markdown",
   "metadata": {},
   "source": [
    "Linear Regression modelled with Lag 48 and Lag 168."
   ]
  },
  {
   "cell_type": "code",
   "execution_count": 23,
   "metadata": {},
   "outputs": [],
   "source": [
    "lm = LinearRegression()"
   ]
  },
  {
   "cell_type": "code",
   "execution_count": 24,
   "metadata": {
    "scrolled": true
   },
   "outputs": [
    {
     "data": {
      "text/plain": [
       "LinearRegression()"
      ]
     },
     "execution_count": 24,
     "metadata": {},
     "output_type": "execute_result"
    }
   ],
   "source": [
    "lm.fit(X_train,y_train)"
   ]
  },
  {
   "cell_type": "code",
   "execution_count": 25,
   "metadata": {},
   "outputs": [
    {
     "data": {
      "text/plain": [
       "array([[0.30841204, 0.64352398]])"
      ]
     },
     "execution_count": 25,
     "metadata": {},
     "output_type": "execute_result"
    }
   ],
   "source": [
    "lm.coef_"
   ]
  },
  {
   "cell_type": "code",
   "execution_count": 26,
   "metadata": {
    "scrolled": true
   },
   "outputs": [],
   "source": [
    "prediction = lm.predict(X_test)"
   ]
  },
  {
   "cell_type": "code",
   "execution_count": 27,
   "metadata": {
    "scrolled": true
   },
   "outputs": [
    {
     "name": "stdout",
     "output_type": "stream",
     "text": [
      "[1574.00813713]\n"
     ]
    }
   ],
   "source": [
    "print(lm.intercept_)"
   ]
  },
  {
   "cell_type": "code",
   "execution_count": 28,
   "metadata": {},
   "outputs": [
    {
     "name": "stdout",
     "output_type": "stream",
     "text": [
      "MAPE Value with Linear Regression is 4.122176505891631\n"
     ]
    }
   ],
   "source": [
    "print(\"MAPE Value with Linear Regression is {}\".format(MAPE(y_test, prediction)))\n"
   ]
  },
  {
   "cell_type": "code",
   "execution_count": 29,
   "metadata": {
    "scrolled": false
   },
   "outputs": [
    {
     "data": {
      "text/plain": [
       "4.122176505891631"
      ]
     },
     "execution_count": 29,
     "metadata": {},
     "output_type": "execute_result"
    }
   ],
   "source": [
    "MAPE(y_test, prediction)"
   ]
  },
  {
   "cell_type": "markdown",
   "metadata": {},
   "source": [
    "It is interesting that even if linear regression resulted better than the naive forecasting with the datas of 2 days ago, it is not better than the MAPE value of naive forecasting with the datas of 1 week ago.\n",
    "\n",
    "As a result, I can say that predicting with naive forecasting with weekly data works better than linear regression. It shows that consumption value of last week's same hour is critical for forecasting."
   ]
  },
  {
   "cell_type": "markdown",
   "metadata": {},
   "source": [
    "# Section C\n",
    "Task: As mentioned earlier, hourly seasonality is important. Although we used the same hour’s consumption value of the past days to handle this problem for part (b), we implicitly impose an assumption that prediction model for each hour has the same coefficients which may not be correct since the consumption behavior at nights can be different than the other hours. Therefore, modeling each hour separately is another way to approach to the same problem. Train linear regression models for each hour using the same training period (24 models) and report your test performance as in part (a).\n"
   ]
  },
  {
   "cell_type": "code",
   "execution_count": 30,
   "metadata": {
    "scrolled": true
   },
   "outputs": [],
   "source": [
    "hours = np.arange(0, 24, 1)\n",
    "MAPE_df = pd.DataFrame(hours, columns=['Hour'])\n",
    "MAPE_df['MAPE_values'] = \"\"\n",
    "MAPE_df\n",
    "\n",
    "for i in hours:\n",
    "    ftrain_df = train_df.loc[(train_df['Hour'] == i)] #filtered train data\n",
    "    ftest_df = test_df.loc[(test_df['Hour'] == i)] #filtered test data\n",
    "    X_train = ftrain_df[['Lag48', 'Lag168']].to_numpy()\n",
    "    y_train = ftrain_df[['Consumption']].to_numpy()\n",
    "    X_test = ftest_df[['Lag48', 'Lag168']].to_numpy()\n",
    "    y_test = ftest_df[['Consumption']].to_numpy()\n",
    "    \n",
    "    lm = LinearRegression()\n",
    "    lm.fit(X_train,y_train)\n",
    "    prediction = lm.predict(X_test)\n",
    "    MAPE_df.iloc[i,1] = MAPE(y_test, prediction)"
   ]
  },
  {
   "cell_type": "code",
   "execution_count": 31,
   "metadata": {},
   "outputs": [
    {
     "name": "stdout",
     "output_type": "stream",
     "text": [
      "Min MAPE Value of Linear Regression is 3.111259913798017\n",
      "Max MAPE Value of Linear Regression is 6.355180482822785\n"
     ]
    }
   ],
   "source": [
    "print('Min MAPE Value of Linear Regression is', MAPE_df['MAPE_values'].min())\n",
    "print('Max MAPE Value of Linear Regression is', MAPE_df['MAPE_values'].max())"
   ]
  },
  {
   "cell_type": "markdown",
   "metadata": {},
   "source": [
    "It seems like there are better results for certain hours compared to naive forcesting with weekly data."
   ]
  },
  {
   "cell_type": "code",
   "execution_count": 32,
   "metadata": {
    "scrolled": true
   },
   "outputs": [
    {
     "data": {
      "text/html": [
       "<div>\n",
       "<style scoped>\n",
       "    .dataframe tbody tr th:only-of-type {\n",
       "        vertical-align: middle;\n",
       "    }\n",
       "\n",
       "    .dataframe tbody tr th {\n",
       "        vertical-align: top;\n",
       "    }\n",
       "\n",
       "    .dataframe thead th {\n",
       "        text-align: right;\n",
       "    }\n",
       "</style>\n",
       "<table border=\"1\" class=\"dataframe\">\n",
       "  <thead>\n",
       "    <tr style=\"text-align: right;\">\n",
       "      <th></th>\n",
       "      <th>Hour</th>\n",
       "      <th>MAPE_values</th>\n",
       "    </tr>\n",
       "  </thead>\n",
       "  <tbody>\n",
       "    <tr>\n",
       "      <th>0</th>\n",
       "      <td>0</td>\n",
       "      <td>3.2669</td>\n",
       "    </tr>\n",
       "    <tr>\n",
       "      <th>1</th>\n",
       "      <td>1</td>\n",
       "      <td>3.26999</td>\n",
       "    </tr>\n",
       "    <tr>\n",
       "      <th>2</th>\n",
       "      <td>2</td>\n",
       "      <td>3.38531</td>\n",
       "    </tr>\n",
       "    <tr>\n",
       "      <th>3</th>\n",
       "      <td>3</td>\n",
       "      <td>3.19455</td>\n",
       "    </tr>\n",
       "    <tr>\n",
       "      <th>4</th>\n",
       "      <td>4</td>\n",
       "      <td>3.16809</td>\n",
       "    </tr>\n",
       "    <tr>\n",
       "      <th>5</th>\n",
       "      <td>5</td>\n",
       "      <td>3.15663</td>\n",
       "    </tr>\n",
       "    <tr>\n",
       "      <th>6</th>\n",
       "      <td>6</td>\n",
       "      <td>3.13134</td>\n",
       "    </tr>\n",
       "    <tr>\n",
       "      <th>19</th>\n",
       "      <td>19</td>\n",
       "      <td>3.38158</td>\n",
       "    </tr>\n",
       "    <tr>\n",
       "      <th>20</th>\n",
       "      <td>20</td>\n",
       "      <td>3.11745</td>\n",
       "    </tr>\n",
       "    <tr>\n",
       "      <th>21</th>\n",
       "      <td>21</td>\n",
       "      <td>3.11126</td>\n",
       "    </tr>\n",
       "    <tr>\n",
       "      <th>22</th>\n",
       "      <td>22</td>\n",
       "      <td>3.12649</td>\n",
       "    </tr>\n",
       "    <tr>\n",
       "      <th>23</th>\n",
       "      <td>23</td>\n",
       "      <td>3.35643</td>\n",
       "    </tr>\n",
       "  </tbody>\n",
       "</table>\n",
       "</div>"
      ],
      "text/plain": [
       "    Hour MAPE_values\n",
       "0      0      3.2669\n",
       "1      1     3.26999\n",
       "2      2     3.38531\n",
       "3      3     3.19455\n",
       "4      4     3.16809\n",
       "5      5     3.15663\n",
       "6      6     3.13134\n",
       "19    19     3.38158\n",
       "20    20     3.11745\n",
       "21    21     3.11126\n",
       "22    22     3.12649\n",
       "23    23     3.35643"
      ]
     },
     "execution_count": 32,
     "metadata": {},
     "output_type": "execute_result"
    }
   ],
   "source": [
    "MAPE_df.loc[(MAPE_df['MAPE_values'] < MAPE_lag168)]"
   ]
  },
  {
   "cell_type": "code",
   "execution_count": 33,
   "metadata": {},
   "outputs": [
    {
     "data": {
      "text/plain": [
       "Hour           12\n",
       "MAPE_values    12\n",
       "dtype: int64"
      ]
     },
     "execution_count": 33,
     "metadata": {},
     "output_type": "execute_result"
    }
   ],
   "source": [
    "MAPE_df.loc[(MAPE_df['MAPE_values'] < MAPE_lag168)].count()"
   ]
  },
  {
   "cell_type": "markdown",
   "metadata": {},
   "source": [
    "Now each hour has different coefficient so I expect the prediction to be better. In fact, I would expect most of the results to be better than naive forecasting as it is focused on the hours and the idea of it is seemed to be very consistent. However, just half of them have better MAPE values. Generally, naive forecasting still seems to be working fine. "
   ]
  },
  {
   "cell_type": "markdown",
   "metadata": {},
   "source": [
    "# Section D\n",
    "Task: Assume that you have 48 features (hourly consumption from two days ago and last week’s hourly consumption) in total. You are also willing to follow the same logic in part (c) and build a prediction model for each hour separately. Since there is a strong correlation (actually an autocorrelation) between these predictors, you are willing to use penalized regression approaches for modeling. Use L1 penalty in your regression models for each hour. Note that the feature matrix will be the same for all your models, only the target variable will change for this task. In order to determine the regularization parameter (i.e. lambda), perform a 10-fold cross-validation.\n",
    "Train penalized regression models with L1 penalty (i.e. lasso regression) for each hour using the same training period (24 models) and report your test performance as in part (a). Also comment on the resulting models (i.e. coefficients and etc.)."
   ]
  },
  {
   "cell_type": "code",
   "execution_count": 34,
   "metadata": {},
   "outputs": [
    {
     "data": {
      "text/html": [
       "<div>\n",
       "<style scoped>\n",
       "    .dataframe tbody tr th:only-of-type {\n",
       "        vertical-align: middle;\n",
       "    }\n",
       "\n",
       "    .dataframe tbody tr th {\n",
       "        vertical-align: top;\n",
       "    }\n",
       "\n",
       "    .dataframe thead th {\n",
       "        text-align: right;\n",
       "    }\n",
       "</style>\n",
       "<table border=\"1\" class=\"dataframe\">\n",
       "  <thead>\n",
       "    <tr style=\"text-align: right;\">\n",
       "      <th></th>\n",
       "      <th>Date</th>\n",
       "      <th>Hour</th>\n",
       "      <th>Consumption</th>\n",
       "      <th>Lag48</th>\n",
       "      <th>Lag168</th>\n",
       "    </tr>\n",
       "  </thead>\n",
       "  <tbody>\n",
       "    <tr>\n",
       "      <th>168</th>\n",
       "      <td>2016-08-01</td>\n",
       "      <td>0</td>\n",
       "      <td>28602.02</td>\n",
       "      <td>29189.27</td>\n",
       "      <td>26277.24</td>\n",
       "    </tr>\n",
       "    <tr>\n",
       "      <th>169</th>\n",
       "      <td>2016-08-01</td>\n",
       "      <td>1</td>\n",
       "      <td>27112.37</td>\n",
       "      <td>27614.02</td>\n",
       "      <td>24991.82</td>\n",
       "    </tr>\n",
       "    <tr>\n",
       "      <th>170</th>\n",
       "      <td>2016-08-01</td>\n",
       "      <td>2</td>\n",
       "      <td>25975.34</td>\n",
       "      <td>26578.97</td>\n",
       "      <td>23532.61</td>\n",
       "    </tr>\n",
       "    <tr>\n",
       "      <th>171</th>\n",
       "      <td>2016-08-01</td>\n",
       "      <td>3</td>\n",
       "      <td>25315.55</td>\n",
       "      <td>25719.19</td>\n",
       "      <td>22464.78</td>\n",
       "    </tr>\n",
       "    <tr>\n",
       "      <th>172</th>\n",
       "      <td>2016-08-01</td>\n",
       "      <td>4</td>\n",
       "      <td>25128.15</td>\n",
       "      <td>25864.63</td>\n",
       "      <td>22002.91</td>\n",
       "    </tr>\n",
       "  </tbody>\n",
       "</table>\n",
       "</div>"
      ],
      "text/plain": [
       "          Date  Hour  Consumption     Lag48    Lag168\n",
       "168 2016-08-01     0     28602.02  29189.27  26277.24\n",
       "169 2016-08-01     1     27112.37  27614.02  24991.82\n",
       "170 2016-08-01     2     25975.34  26578.97  23532.61\n",
       "171 2016-08-01     3     25315.55  25719.19  22464.78\n",
       "172 2016-08-01     4     25128.15  25864.63  22002.91"
      ]
     },
     "execution_count": 34,
     "metadata": {},
     "output_type": "execute_result"
    }
   ],
   "source": [
    "nlag_df.head(5)"
   ]
  },
  {
   "cell_type": "code",
   "execution_count": 35,
   "metadata": {
    "scrolled": true
   },
   "outputs": [
    {
     "name": "stdout",
     "output_type": "stream",
     "text": [
      "<class 'pandas.core.frame.DataFrame'>\n",
      "Int64Index: 42936 entries, 168 to 43103\n",
      "Data columns (total 5 columns):\n",
      " #   Column       Non-Null Count  Dtype         \n",
      "---  ------       --------------  -----         \n",
      " 0   Date         42936 non-null  datetime64[ns]\n",
      " 1   Hour         42936 non-null  int32         \n",
      " 2   Consumption  42936 non-null  float64       \n",
      " 3   Lag48        42936 non-null  float64       \n",
      " 4   Lag168       42936 non-null  float64       \n",
      "dtypes: datetime64[ns](1), float64(3), int32(1)\n",
      "memory usage: 1.8 MB\n"
     ]
    }
   ],
   "source": [
    "nlag_df.info()"
   ]
  },
  {
   "cell_type": "code",
   "execution_count": 36,
   "metadata": {
    "scrolled": true
   },
   "outputs": [
    {
     "data": {
      "text/html": [
       "<div>\n",
       "<style scoped>\n",
       "    .dataframe tbody tr th:only-of-type {\n",
       "        vertical-align: middle;\n",
       "    }\n",
       "\n",
       "    .dataframe tbody tr th {\n",
       "        vertical-align: top;\n",
       "    }\n",
       "\n",
       "    .dataframe thead th {\n",
       "        text-align: right;\n",
       "    }\n",
       "</style>\n",
       "<table border=\"1\" class=\"dataframe\">\n",
       "  <thead>\n",
       "    <tr style=\"text-align: right;\">\n",
       "      <th>Hour</th>\n",
       "      <th>Date</th>\n",
       "      <th>0</th>\n",
       "      <th>1</th>\n",
       "      <th>2</th>\n",
       "      <th>3</th>\n",
       "      <th>4</th>\n",
       "      <th>5</th>\n",
       "      <th>6</th>\n",
       "      <th>7</th>\n",
       "      <th>8</th>\n",
       "      <th>...</th>\n",
       "      <th>14</th>\n",
       "      <th>15</th>\n",
       "      <th>16</th>\n",
       "      <th>17</th>\n",
       "      <th>18</th>\n",
       "      <th>19</th>\n",
       "      <th>20</th>\n",
       "      <th>21</th>\n",
       "      <th>22</th>\n",
       "      <th>23</th>\n",
       "    </tr>\n",
       "  </thead>\n",
       "  <tbody>\n",
       "    <tr>\n",
       "      <th>6</th>\n",
       "      <td>2016-01-08</td>\n",
       "      <td>34781.66</td>\n",
       "      <td>33026.1</td>\n",
       "      <td>31637.18</td>\n",
       "      <td>30876.62</td>\n",
       "      <td>30264.22</td>\n",
       "      <td>28931.79</td>\n",
       "      <td>28504.85</td>\n",
       "      <td>29920.41</td>\n",
       "      <td>33763.31</td>\n",
       "      <td>...</td>\n",
       "      <td>39269.96</td>\n",
       "      <td>38907.75</td>\n",
       "      <td>38217.42</td>\n",
       "      <td>36923.21</td>\n",
       "      <td>35947.54</td>\n",
       "      <td>35961.09</td>\n",
       "      <td>36972.61</td>\n",
       "      <td>36845.87</td>\n",
       "      <td>36389.31</td>\n",
       "      <td>34980.42</td>\n",
       "    </tr>\n",
       "  </tbody>\n",
       "</table>\n",
       "<p>1 rows × 25 columns</p>\n",
       "</div>"
      ],
      "text/plain": [
       "Hour       Date         0        1         2         3         4         5  \\\n",
       "6    2016-01-08  34781.66  33026.1  31637.18  30876.62  30264.22  28931.79   \n",
       "\n",
       "Hour         6         7         8  ...        14        15        16  \\\n",
       "6     28504.85  29920.41  33763.31  ...  39269.96  38907.75  38217.42   \n",
       "\n",
       "Hour        17        18        19        20        21        22        23  \n",
       "6     36923.21  35947.54  35961.09  36972.61  36845.87  36389.31  34980.42  \n",
       "\n",
       "[1 rows x 25 columns]"
      ]
     },
     "execution_count": 36,
     "metadata": {},
     "output_type": "execute_result"
    }
   ],
   "source": [
    "wide48_df = nlag_df.pivot(index='Date',columns='Hour',values='Lag48')\n",
    "wide168_df = nlag_df.pivot(index='Date',columns='Hour',values='Lag168')\n",
    "wide48_df = wide48_df.reset_index()\n",
    "wide168_df = wide168_df.reset_index()\n",
    "wide48_df.loc[(wide48_df['Date'] == \"2016-01-08\")]"
   ]
  },
  {
   "cell_type": "code",
   "execution_count": 37,
   "metadata": {
    "scrolled": true
   },
   "outputs": [
    {
     "data": {
      "text/html": [
       "<div>\n",
       "<style scoped>\n",
       "    .dataframe tbody tr th:only-of-type {\n",
       "        vertical-align: middle;\n",
       "    }\n",
       "\n",
       "    .dataframe tbody tr th {\n",
       "        vertical-align: top;\n",
       "    }\n",
       "\n",
       "    .dataframe thead th {\n",
       "        text-align: right;\n",
       "    }\n",
       "</style>\n",
       "<table border=\"1\" class=\"dataframe\">\n",
       "  <thead>\n",
       "    <tr style=\"text-align: right;\">\n",
       "      <th></th>\n",
       "      <th>Date</th>\n",
       "      <th>Hour</th>\n",
       "      <th>Consumption</th>\n",
       "    </tr>\n",
       "  </thead>\n",
       "  <tbody>\n",
       "    <tr>\n",
       "      <th>0</th>\n",
       "      <td>2016-01-01</td>\n",
       "      <td>0</td>\n",
       "      <td>26277.24</td>\n",
       "    </tr>\n",
       "    <tr>\n",
       "      <th>1</th>\n",
       "      <td>2016-01-01</td>\n",
       "      <td>1</td>\n",
       "      <td>24991.82</td>\n",
       "    </tr>\n",
       "    <tr>\n",
       "      <th>2</th>\n",
       "      <td>2016-01-01</td>\n",
       "      <td>2</td>\n",
       "      <td>23532.61</td>\n",
       "    </tr>\n",
       "    <tr>\n",
       "      <th>3</th>\n",
       "      <td>2016-01-01</td>\n",
       "      <td>3</td>\n",
       "      <td>22464.78</td>\n",
       "    </tr>\n",
       "    <tr>\n",
       "      <th>4</th>\n",
       "      <td>2016-01-01</td>\n",
       "      <td>4</td>\n",
       "      <td>22002.91</td>\n",
       "    </tr>\n",
       "  </tbody>\n",
       "</table>\n",
       "</div>"
      ],
      "text/plain": [
       "        Date  Hour  Consumption\n",
       "0 2016-01-01     0     26277.24\n",
       "1 2016-01-01     1     24991.82\n",
       "2 2016-01-01     2     23532.61\n",
       "3 2016-01-01     3     22464.78\n",
       "4 2016-01-01     4     22002.91"
      ]
     },
     "execution_count": 37,
     "metadata": {},
     "output_type": "execute_result"
    }
   ],
   "source": [
    "df.head(5)"
   ]
  },
  {
   "cell_type": "code",
   "execution_count": 38,
   "metadata": {
    "scrolled": true
   },
   "outputs": [
    {
     "data": {
      "text/plain": [
       "Index(['Date', 'Hour', 'Consumption', '0__Lag48', '1__Lag48', '2__Lag48',\n",
       "       '3__Lag48', '4__Lag48', '5__Lag48', '6__Lag48', '7__Lag48', '8__Lag48',\n",
       "       '9__Lag48', '10__Lag48', '11__Lag48', '12__Lag48', '13__Lag48',\n",
       "       '14__Lag48', '15__Lag48', '16__Lag48', '17__Lag48', '18__Lag48',\n",
       "       '19__Lag48', '20__Lag48', '21__Lag48', '22__Lag48', '23__Lag48',\n",
       "       '0__Lag168', '1__Lag168', '2__Lag168', '3__Lag168', '4__Lag168',\n",
       "       '5__Lag168', '6__Lag168', '7__Lag168', '8__Lag168', '9__Lag168',\n",
       "       '10__Lag168', '11__Lag168', '12__Lag168', '13__Lag168', '14__Lag168',\n",
       "       '15__Lag168', '16__Lag168', '17__Lag168', '18__Lag168', '19__Lag168',\n",
       "       '20__Lag168', '21__Lag168', '22__Lag168', '23__Lag168'],\n",
       "      dtype='object')"
      ]
     },
     "execution_count": 38,
     "metadata": {},
     "output_type": "execute_result"
    }
   ],
   "source": [
    "wide_n_df = df.merge(wide48_df, on='Date').merge(wide168_df, on='Date')\n",
    "wide_n_df.columns = wide_n_df.columns.str.replace(r\"[x]\", \"_Lag48\")\n",
    "wide_n_df.columns = wide_n_df.columns.str.replace(r\"[y]\", \"_Lag168\")\n",
    "wide_n_df.columns"
   ]
  },
  {
   "cell_type": "code",
   "execution_count": 39,
   "metadata": {},
   "outputs": [],
   "source": [
    "from sklearn.linear_model import LassoCV"
   ]
  },
  {
   "cell_type": "code",
   "execution_count": 40,
   "metadata": {},
   "outputs": [],
   "source": [
    "wMAPE_df = pd.DataFrame(hours, columns=['Hour'])\n",
    "wMAPE_df['MAPE_values'] = \"\"\n",
    "\n",
    "wtrain_df = wide_n_df.iloc[:-days].copy()\n",
    "wtest_df = wide_n_df.iloc[-days:].copy()\n",
    "\n",
    "for i in hours:\n",
    "    fwtrain_df = wtrain_df.loc[(wtrain_df['Hour'] == i)] #filtered train data\n",
    "    fwtest_df = wtest_df.loc[(wtest_df['Hour'] == i)] #filtered test data\n",
    "    \n",
    "    X_train = fwtrain_df[fwtrain_df.columns[3:51]].to_numpy()\n",
    "    y_train = fwtrain_df[['Consumption']].to_numpy()\n",
    "    \n",
    "    X_test = fwtest_df[fwtest_df.columns[3:51]].to_numpy()\n",
    "    y_test = fwtest_df[['Consumption']].to_numpy()\n",
    "    \n",
    "    reg = LassoCV(cv=10, random_state=0, max_iter = 10000, normalize=True).fit(X_train, y_train.ravel())\n",
    "    reg.score(X_train, y_train)\n",
    "    prediction = reg.predict(X_test)\n",
    "    wMAPE_df.iloc[i,1] = MAPE(y_test, prediction)"
   ]
  },
  {
   "cell_type": "code",
   "execution_count": 41,
   "metadata": {
    "scrolled": true
   },
   "outputs": [
    {
     "name": "stdout",
     "output_type": "stream",
     "text": [
      "(1759, 48) (30, 48) (1759, 1) (30, 1) (30,)\n"
     ]
    }
   ],
   "source": [
    "prediction.shape\n",
    "print(X_train.shape, X_test.shape, y_train.shape, y_test.shape, prediction.shape)"
   ]
  },
  {
   "cell_type": "code",
   "execution_count": 42,
   "metadata": {
    "scrolled": false
   },
   "outputs": [
    {
     "data": {
      "text/html": [
       "<div>\n",
       "<style scoped>\n",
       "    .dataframe tbody tr th:only-of-type {\n",
       "        vertical-align: middle;\n",
       "    }\n",
       "\n",
       "    .dataframe tbody tr th {\n",
       "        vertical-align: top;\n",
       "    }\n",
       "\n",
       "    .dataframe thead th {\n",
       "        text-align: right;\n",
       "    }\n",
       "</style>\n",
       "<table border=\"1\" class=\"dataframe\">\n",
       "  <thead>\n",
       "    <tr style=\"text-align: right;\">\n",
       "      <th></th>\n",
       "      <th>0</th>\n",
       "      <th>1</th>\n",
       "      <th>2</th>\n",
       "      <th>3</th>\n",
       "      <th>4</th>\n",
       "      <th>5</th>\n",
       "      <th>6</th>\n",
       "      <th>7</th>\n",
       "      <th>8</th>\n",
       "      <th>9</th>\n",
       "      <th>...</th>\n",
       "      <th>14</th>\n",
       "      <th>15</th>\n",
       "      <th>16</th>\n",
       "      <th>17</th>\n",
       "      <th>18</th>\n",
       "      <th>19</th>\n",
       "      <th>20</th>\n",
       "      <th>21</th>\n",
       "      <th>22</th>\n",
       "      <th>23</th>\n",
       "    </tr>\n",
       "  </thead>\n",
       "  <tbody>\n",
       "    <tr>\n",
       "      <th>Hour</th>\n",
       "      <td>0</td>\n",
       "      <td>1</td>\n",
       "      <td>2</td>\n",
       "      <td>3</td>\n",
       "      <td>4</td>\n",
       "      <td>5</td>\n",
       "      <td>6</td>\n",
       "      <td>7</td>\n",
       "      <td>8</td>\n",
       "      <td>9</td>\n",
       "      <td>...</td>\n",
       "      <td>14</td>\n",
       "      <td>15</td>\n",
       "      <td>16</td>\n",
       "      <td>17</td>\n",
       "      <td>18</td>\n",
       "      <td>19</td>\n",
       "      <td>20</td>\n",
       "      <td>21</td>\n",
       "      <td>22</td>\n",
       "      <td>23</td>\n",
       "    </tr>\n",
       "    <tr>\n",
       "      <th>MAPE_values</th>\n",
       "      <td>5.51392</td>\n",
       "      <td>5.52948</td>\n",
       "      <td>5.51441</td>\n",
       "      <td>5.40643</td>\n",
       "      <td>5.37808</td>\n",
       "      <td>5.51272</td>\n",
       "      <td>5.88859</td>\n",
       "      <td>7.73099</td>\n",
       "      <td>10.92</td>\n",
       "      <td>12.0715</td>\n",
       "      <td>...</td>\n",
       "      <td>10.4114</td>\n",
       "      <td>10.0759</td>\n",
       "      <td>9.53917</td>\n",
       "      <td>8.54098</td>\n",
       "      <td>6.68697</td>\n",
       "      <td>5.79272</td>\n",
       "      <td>5.37639</td>\n",
       "      <td>5.30113</td>\n",
       "      <td>5.33266</td>\n",
       "      <td>5.52593</td>\n",
       "    </tr>\n",
       "  </tbody>\n",
       "</table>\n",
       "<p>2 rows × 24 columns</p>\n",
       "</div>"
      ],
      "text/plain": [
       "                  0        1        2        3        4        5        6   \\\n",
       "Hour               0        1        2        3        4        5        6   \n",
       "MAPE_values  5.51392  5.52948  5.51441  5.40643  5.37808  5.51272  5.88859   \n",
       "\n",
       "                  7      8        9   ...       14       15       16       17  \\\n",
       "Hour               7      8        9  ...       14       15       16       17   \n",
       "MAPE_values  7.73099  10.92  12.0715  ...  10.4114  10.0759  9.53917  8.54098   \n",
       "\n",
       "                  18       19       20       21       22       23  \n",
       "Hour              18       19       20       21       22       23  \n",
       "MAPE_values  6.68697  5.79272  5.37639  5.30113  5.33266  5.52593  \n",
       "\n",
       "[2 rows x 24 columns]"
      ]
     },
     "execution_count": 42,
     "metadata": {},
     "output_type": "execute_result"
    }
   ],
   "source": [
    "wMAPE_df.transpose()"
   ]
  },
  {
   "cell_type": "markdown",
   "metadata": {},
   "source": [
    "LassoCV implementation includes standardization and I set number of max iterations to 10000 to prevent convergence problem. Lasso implementation gave the worst results compare to naive forecasting with weekly data and linear regression. Penalized regression does not work better than linear regression for this dataset. With this results, I would prefer to use naive forecasting or linear regression."
   ]
  },
  {
   "cell_type": "markdown",
   "metadata": {},
   "source": [
    "# Section F\n",
    "Task: Compare the results drawing a boxplot of MAPE values for each approach on same plot. Comment on your findings."
   ]
  },
  {
   "cell_type": "code",
   "execution_count": 43,
   "metadata": {
    "scrolled": true
   },
   "outputs": [
    {
     "data": {
      "text/html": [
       "<div>\n",
       "<style scoped>\n",
       "    .dataframe tbody tr th:only-of-type {\n",
       "        vertical-align: middle;\n",
       "    }\n",
       "\n",
       "    .dataframe tbody tr th {\n",
       "        vertical-align: top;\n",
       "    }\n",
       "\n",
       "    .dataframe thead th {\n",
       "        text-align: right;\n",
       "    }\n",
       "</style>\n",
       "<table border=\"1\" class=\"dataframe\">\n",
       "  <thead>\n",
       "    <tr style=\"text-align: right;\">\n",
       "      <th></th>\n",
       "      <th>Naive Forecasting (2 Days)</th>\n",
       "      <th>Naive Forecasting (1 Week)</th>\n",
       "      <th>Linear Regression</th>\n",
       "      <th>Lasso Regression</th>\n",
       "    </tr>\n",
       "  </thead>\n",
       "  <tbody>\n",
       "    <tr>\n",
       "      <th>0</th>\n",
       "      <td>7.7892</td>\n",
       "      <td>3.45367</td>\n",
       "      <td>3.2669</td>\n",
       "      <td>5.51392</td>\n",
       "    </tr>\n",
       "    <tr>\n",
       "      <th>1</th>\n",
       "      <td>NaN</td>\n",
       "      <td>NaN</td>\n",
       "      <td>3.26999</td>\n",
       "      <td>5.52948</td>\n",
       "    </tr>\n",
       "    <tr>\n",
       "      <th>2</th>\n",
       "      <td>NaN</td>\n",
       "      <td>NaN</td>\n",
       "      <td>3.38531</td>\n",
       "      <td>5.51441</td>\n",
       "    </tr>\n",
       "    <tr>\n",
       "      <th>3</th>\n",
       "      <td>NaN</td>\n",
       "      <td>NaN</td>\n",
       "      <td>3.19455</td>\n",
       "      <td>5.40643</td>\n",
       "    </tr>\n",
       "    <tr>\n",
       "      <th>4</th>\n",
       "      <td>NaN</td>\n",
       "      <td>NaN</td>\n",
       "      <td>3.16809</td>\n",
       "      <td>5.37808</td>\n",
       "    </tr>\n",
       "    <tr>\n",
       "      <th>5</th>\n",
       "      <td>NaN</td>\n",
       "      <td>NaN</td>\n",
       "      <td>3.15663</td>\n",
       "      <td>5.51272</td>\n",
       "    </tr>\n",
       "    <tr>\n",
       "      <th>6</th>\n",
       "      <td>NaN</td>\n",
       "      <td>NaN</td>\n",
       "      <td>3.13134</td>\n",
       "      <td>5.88859</td>\n",
       "    </tr>\n",
       "    <tr>\n",
       "      <th>7</th>\n",
       "      <td>NaN</td>\n",
       "      <td>NaN</td>\n",
       "      <td>3.74745</td>\n",
       "      <td>7.73099</td>\n",
       "    </tr>\n",
       "    <tr>\n",
       "      <th>8</th>\n",
       "      <td>NaN</td>\n",
       "      <td>NaN</td>\n",
       "      <td>4.59035</td>\n",
       "      <td>10.92</td>\n",
       "    </tr>\n",
       "    <tr>\n",
       "      <th>9</th>\n",
       "      <td>NaN</td>\n",
       "      <td>NaN</td>\n",
       "      <td>5.29984</td>\n",
       "      <td>12.0715</td>\n",
       "    </tr>\n",
       "    <tr>\n",
       "      <th>10</th>\n",
       "      <td>NaN</td>\n",
       "      <td>NaN</td>\n",
       "      <td>5.84178</td>\n",
       "      <td>11.6444</td>\n",
       "    </tr>\n",
       "    <tr>\n",
       "      <th>11</th>\n",
       "      <td>NaN</td>\n",
       "      <td>NaN</td>\n",
       "      <td>5.9902</td>\n",
       "      <td>11.1993</td>\n",
       "    </tr>\n",
       "    <tr>\n",
       "      <th>12</th>\n",
       "      <td>NaN</td>\n",
       "      <td>NaN</td>\n",
       "      <td>6.23328</td>\n",
       "      <td>10.178</td>\n",
       "    </tr>\n",
       "    <tr>\n",
       "      <th>13</th>\n",
       "      <td>NaN</td>\n",
       "      <td>NaN</td>\n",
       "      <td>6.35518</td>\n",
       "      <td>9.85872</td>\n",
       "    </tr>\n",
       "    <tr>\n",
       "      <th>14</th>\n",
       "      <td>NaN</td>\n",
       "      <td>NaN</td>\n",
       "      <td>6.18965</td>\n",
       "      <td>10.4114</td>\n",
       "    </tr>\n",
       "    <tr>\n",
       "      <th>15</th>\n",
       "      <td>NaN</td>\n",
       "      <td>NaN</td>\n",
       "      <td>5.84592</td>\n",
       "      <td>10.0759</td>\n",
       "    </tr>\n",
       "    <tr>\n",
       "      <th>16</th>\n",
       "      <td>NaN</td>\n",
       "      <td>NaN</td>\n",
       "      <td>4.96848</td>\n",
       "      <td>9.53917</td>\n",
       "    </tr>\n",
       "    <tr>\n",
       "      <th>17</th>\n",
       "      <td>NaN</td>\n",
       "      <td>NaN</td>\n",
       "      <td>4.50641</td>\n",
       "      <td>8.54098</td>\n",
       "    </tr>\n",
       "    <tr>\n",
       "      <th>18</th>\n",
       "      <td>NaN</td>\n",
       "      <td>NaN</td>\n",
       "      <td>3.67673</td>\n",
       "      <td>6.68697</td>\n",
       "    </tr>\n",
       "    <tr>\n",
       "      <th>19</th>\n",
       "      <td>NaN</td>\n",
       "      <td>NaN</td>\n",
       "      <td>3.38158</td>\n",
       "      <td>5.79272</td>\n",
       "    </tr>\n",
       "    <tr>\n",
       "      <th>20</th>\n",
       "      <td>NaN</td>\n",
       "      <td>NaN</td>\n",
       "      <td>3.11745</td>\n",
       "      <td>5.37639</td>\n",
       "    </tr>\n",
       "    <tr>\n",
       "      <th>21</th>\n",
       "      <td>NaN</td>\n",
       "      <td>NaN</td>\n",
       "      <td>3.11126</td>\n",
       "      <td>5.30113</td>\n",
       "    </tr>\n",
       "    <tr>\n",
       "      <th>22</th>\n",
       "      <td>NaN</td>\n",
       "      <td>NaN</td>\n",
       "      <td>3.12649</td>\n",
       "      <td>5.33266</td>\n",
       "    </tr>\n",
       "  </tbody>\n",
       "</table>\n",
       "</div>"
      ],
      "text/plain": [
       "   Naive Forecasting (2 Days) Naive Forecasting (1 Week) Linear Regression  \\\n",
       "0                      7.7892                    3.45367            3.2669   \n",
       "1                         NaN                        NaN           3.26999   \n",
       "2                         NaN                        NaN           3.38531   \n",
       "3                         NaN                        NaN           3.19455   \n",
       "4                         NaN                        NaN           3.16809   \n",
       "5                         NaN                        NaN           3.15663   \n",
       "6                         NaN                        NaN           3.13134   \n",
       "7                         NaN                        NaN           3.74745   \n",
       "8                         NaN                        NaN           4.59035   \n",
       "9                         NaN                        NaN           5.29984   \n",
       "10                        NaN                        NaN           5.84178   \n",
       "11                        NaN                        NaN            5.9902   \n",
       "12                        NaN                        NaN           6.23328   \n",
       "13                        NaN                        NaN           6.35518   \n",
       "14                        NaN                        NaN           6.18965   \n",
       "15                        NaN                        NaN           5.84592   \n",
       "16                        NaN                        NaN           4.96848   \n",
       "17                        NaN                        NaN           4.50641   \n",
       "18                        NaN                        NaN           3.67673   \n",
       "19                        NaN                        NaN           3.38158   \n",
       "20                        NaN                        NaN           3.11745   \n",
       "21                        NaN                        NaN           3.11126   \n",
       "22                        NaN                        NaN           3.12649   \n",
       "\n",
       "   Lasso Regression  \n",
       "0           5.51392  \n",
       "1           5.52948  \n",
       "2           5.51441  \n",
       "3           5.40643  \n",
       "4           5.37808  \n",
       "5           5.51272  \n",
       "6           5.88859  \n",
       "7           7.73099  \n",
       "8             10.92  \n",
       "9           12.0715  \n",
       "10          11.6444  \n",
       "11          11.1993  \n",
       "12           10.178  \n",
       "13          9.85872  \n",
       "14          10.4114  \n",
       "15          10.0759  \n",
       "16          9.53917  \n",
       "17          8.54098  \n",
       "18          6.68697  \n",
       "19          5.79272  \n",
       "20          5.37639  \n",
       "21          5.30113  \n",
       "22          5.33266  "
      ]
     },
     "execution_count": 43,
     "metadata": {},
     "output_type": "execute_result"
    }
   ],
   "source": [
    "all_MAPE = pd.DataFrame(index=range(0,23), columns=['Naive Forecasting (2 Days)','Naive Forecasting (1 Week)','Linear Regression','Lasso Regression'])\n",
    "all_MAPE['Linear Regression'] = MAPE_df[\"MAPE_values\"]\n",
    "all_MAPE['Lasso Regression'] = wMAPE_df[\"MAPE_values\"]\n",
    "all_MAPE.iloc[0,0] = MAPE_lag48\n",
    "all_MAPE.iloc[0,1] = MAPE_lag168\n",
    "all_MAPE"
   ]
  },
  {
   "cell_type": "code",
   "execution_count": 45,
   "metadata": {},
   "outputs": [],
   "source": [
    "import seaborn as sns"
   ]
  },
  {
   "cell_type": "code",
   "execution_count": 46,
   "metadata": {
    "scrolled": true
   },
   "outputs": [
    {
     "data": {
      "image/png": "[encoded data removed]",
      "text/plain": [
       "<Figure size 720x360 with 1 Axes>"
      ]
     },
     "metadata": {
      "needs_background": "light"
     },
     "output_type": "display_data"
    }
   ],
   "source": [
    "#sns.set(style=\"whitegrid\")\n",
    "plt.figure(figsize=(10,5))\n",
    "sns.boxplot(data=all_MAPE)\n",
    "plt.show()"
   ]
  },
  {
   "cell_type": "markdown",
   "metadata": {},
   "source": [
    "Naive forecasting MAPE values are only added for visual inspection. As it is clear that \"naive forecasting based on last week's data\" is much better than most of them. In my implementation, \"Linear regression\" gives better results compared to Lasso Regression and naive forecasting based on the data of 2 days ago. Consequently, both of them seems to be useful but naive forecasting is much less complex."
   ]
  },
  {
   "cell_type": "markdown",
   "metadata": {},
   "source": [
    "# References\n",
    "[1] https://ibf.org/knowledge/glossary/mape-mean-absolute-percentage-error-174\n",
    "\n",
    "[2] https://stackoverflow.com/questions/56315468/replace-comma-and-dot-in-pandas/56315638\n",
    "\n",
    "[3] https://stackoverflow.com/questions/20410312/how-to-create-a-lagged-data-structure-using-pandas-dataframe\n",
    "\n",
    "[4] https://www.askpython.com/python/examples/mape-mean-absolute-percentage-error\n"
   ]
  }
 ],
 "metadata": {
  "kernelspec": {
   "display_name": "Python 3",
   "language": "python",
   "name": "python3"
  },
  "language_info": {
   "codemirror_mode": {
    "name": "ipython",
    "version": 3
   },
   "file_extension": ".py",
   "mimetype": "text/x-python",
   "name": "python",
   "nbconvert_exporter": "python",
   "pygments_lexer": "ipython3",
   "version": "3.8.3"
  }
 },
 "nbformat": 4,
 "nbformat_minor": 4
}
