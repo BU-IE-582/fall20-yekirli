{
 "cells": [
  {
   "cell_type": "code",
   "execution_count": 1,
   "metadata": {},
   "outputs": [],
   "source": [
    "import numpy as np\n",
    "import pandas as pd\n",
    "from sklearn import preprocessing\n",
    "import xgboost\n",
    "from sklearn.model_selection import KFold\n",
    "from sklearn.model_selection import GridSearchCV\n",
    "from sklearn.linear_model import LassoCV\n",
    "from sklearn.tree import DecisionTreeClassifier, DecisionTreeRegressor\n",
    "from sklearn.ensemble import RandomForestClassifier, RandomForestRegressor\n",
    "from sklearn.model_selection import train_test_split\n",
    "from sklearn.metrics import accuracy_score, mean_squared_error, r2_score"
   ]
  },
  {
   "cell_type": "code",
   "execution_count": 2,
   "metadata": {},
   "outputs": [],
   "source": [
    "import warnings\n",
    "warnings.filterwarnings(\"ignore\")"
   ]
  },
  {
   "cell_type": "markdown",
   "metadata": {},
   "source": [
    "# Data Set 4: Optical Recognition of Handwritten Digits"
   ]
  },
  {
   "cell_type": "markdown",
   "metadata": {},
   "source": [
    "## Content\n",
    "We used preprocessing programs made available by NIST to extract normalized bitmaps of handwritten digits from a preprinted form. From a total of 43 people, 30 contributed to the training set and different 13 to the test set. 32x32 bitmaps are divided into nonoverlapping blocks of 4x4 and the number of on pixels are counted in each block. This generates an input matrix of 8x8 where each element is an integer in the range 0..16. This reduces dimensionality and gives invariance to small distortions."
   ]
  },
  {
   "cell_type": "markdown",
   "metadata": {},
   "source": [
    "## Task\n",
    "All input attributes are integers in the range 0..16.\n",
    "The last attribute is the class code 0..9"
   ]
  },
  {
   "cell_type": "code",
   "execution_count": 3,
   "metadata": {
    "scrolled": false
   },
   "outputs": [],
   "source": [
    "ds4_test = pd.read_csv('optdigits.tes',header=None)\n",
    "ds4_train = pd.read_csv('optdigits.tra', header=None)"
   ]
  },
  {
   "cell_type": "code",
   "execution_count": 4,
   "metadata": {},
   "outputs": [
    {
     "data": {
      "text/html": [
       "<div>\n",
       "<style scoped>\n",
       "    .dataframe tbody tr th:only-of-type {\n",
       "        vertical-align: middle;\n",
       "    }\n",
       "\n",
       "    .dataframe tbody tr th {\n",
       "        vertical-align: top;\n",
       "    }\n",
       "\n",
       "    .dataframe thead th {\n",
       "        text-align: right;\n",
       "    }\n",
       "</style>\n",
       "<table border=\"1\" class=\"dataframe\">\n",
       "  <thead>\n",
       "    <tr style=\"text-align: right;\">\n",
       "      <th></th>\n",
       "      <th>0</th>\n",
       "      <th>1</th>\n",
       "      <th>2</th>\n",
       "      <th>3</th>\n",
       "      <th>4</th>\n",
       "      <th>5</th>\n",
       "      <th>6</th>\n",
       "      <th>7</th>\n",
       "      <th>8</th>\n",
       "      <th>9</th>\n",
       "      <th>...</th>\n",
       "      <th>55</th>\n",
       "      <th>56</th>\n",
       "      <th>57</th>\n",
       "      <th>58</th>\n",
       "      <th>59</th>\n",
       "      <th>60</th>\n",
       "      <th>61</th>\n",
       "      <th>62</th>\n",
       "      <th>63</th>\n",
       "      <th>64</th>\n",
       "    </tr>\n",
       "  </thead>\n",
       "  <tbody>\n",
       "    <tr>\n",
       "      <th>0</th>\n",
       "      <td>0</td>\n",
       "      <td>0</td>\n",
       "      <td>5</td>\n",
       "      <td>13</td>\n",
       "      <td>9</td>\n",
       "      <td>1</td>\n",
       "      <td>0</td>\n",
       "      <td>0</td>\n",
       "      <td>0</td>\n",
       "      <td>0</td>\n",
       "      <td>...</td>\n",
       "      <td>0</td>\n",
       "      <td>0</td>\n",
       "      <td>0</td>\n",
       "      <td>6</td>\n",
       "      <td>13</td>\n",
       "      <td>10</td>\n",
       "      <td>0</td>\n",
       "      <td>0</td>\n",
       "      <td>0</td>\n",
       "      <td>0</td>\n",
       "    </tr>\n",
       "    <tr>\n",
       "      <th>1</th>\n",
       "      <td>0</td>\n",
       "      <td>0</td>\n",
       "      <td>0</td>\n",
       "      <td>12</td>\n",
       "      <td>13</td>\n",
       "      <td>5</td>\n",
       "      <td>0</td>\n",
       "      <td>0</td>\n",
       "      <td>0</td>\n",
       "      <td>0</td>\n",
       "      <td>...</td>\n",
       "      <td>0</td>\n",
       "      <td>0</td>\n",
       "      <td>0</td>\n",
       "      <td>0</td>\n",
       "      <td>11</td>\n",
       "      <td>16</td>\n",
       "      <td>10</td>\n",
       "      <td>0</td>\n",
       "      <td>0</td>\n",
       "      <td>1</td>\n",
       "    </tr>\n",
       "    <tr>\n",
       "      <th>2</th>\n",
       "      <td>0</td>\n",
       "      <td>0</td>\n",
       "      <td>0</td>\n",
       "      <td>4</td>\n",
       "      <td>15</td>\n",
       "      <td>12</td>\n",
       "      <td>0</td>\n",
       "      <td>0</td>\n",
       "      <td>0</td>\n",
       "      <td>0</td>\n",
       "      <td>...</td>\n",
       "      <td>0</td>\n",
       "      <td>0</td>\n",
       "      <td>0</td>\n",
       "      <td>0</td>\n",
       "      <td>3</td>\n",
       "      <td>11</td>\n",
       "      <td>16</td>\n",
       "      <td>9</td>\n",
       "      <td>0</td>\n",
       "      <td>2</td>\n",
       "    </tr>\n",
       "    <tr>\n",
       "      <th>3</th>\n",
       "      <td>0</td>\n",
       "      <td>0</td>\n",
       "      <td>7</td>\n",
       "      <td>15</td>\n",
       "      <td>13</td>\n",
       "      <td>1</td>\n",
       "      <td>0</td>\n",
       "      <td>0</td>\n",
       "      <td>0</td>\n",
       "      <td>8</td>\n",
       "      <td>...</td>\n",
       "      <td>0</td>\n",
       "      <td>0</td>\n",
       "      <td>0</td>\n",
       "      <td>7</td>\n",
       "      <td>13</td>\n",
       "      <td>13</td>\n",
       "      <td>9</td>\n",
       "      <td>0</td>\n",
       "      <td>0</td>\n",
       "      <td>3</td>\n",
       "    </tr>\n",
       "    <tr>\n",
       "      <th>4</th>\n",
       "      <td>0</td>\n",
       "      <td>0</td>\n",
       "      <td>0</td>\n",
       "      <td>1</td>\n",
       "      <td>11</td>\n",
       "      <td>0</td>\n",
       "      <td>0</td>\n",
       "      <td>0</td>\n",
       "      <td>0</td>\n",
       "      <td>0</td>\n",
       "      <td>...</td>\n",
       "      <td>0</td>\n",
       "      <td>0</td>\n",
       "      <td>0</td>\n",
       "      <td>0</td>\n",
       "      <td>2</td>\n",
       "      <td>16</td>\n",
       "      <td>4</td>\n",
       "      <td>0</td>\n",
       "      <td>0</td>\n",
       "      <td>4</td>\n",
       "    </tr>\n",
       "  </tbody>\n",
       "</table>\n",
       "<p>5 rows × 65 columns</p>\n",
       "</div>"
      ],
      "text/plain": [
       "   0   1   2   3   4   5   6   7   8   9   ...  55  56  57  58  59  60  61  \\\n",
       "0   0   0   5  13   9   1   0   0   0   0  ...   0   0   0   6  13  10   0   \n",
       "1   0   0   0  12  13   5   0   0   0   0  ...   0   0   0   0  11  16  10   \n",
       "2   0   0   0   4  15  12   0   0   0   0  ...   0   0   0   0   3  11  16   \n",
       "3   0   0   7  15  13   1   0   0   0   8  ...   0   0   0   7  13  13   9   \n",
       "4   0   0   0   1  11   0   0   0   0   0  ...   0   0   0   0   2  16   4   \n",
       "\n",
       "   62  63  64  \n",
       "0   0   0   0  \n",
       "1   0   0   1  \n",
       "2   9   0   2  \n",
       "3   0   0   3  \n",
       "4   0   0   4  \n",
       "\n",
       "[5 rows x 65 columns]"
      ]
     },
     "execution_count": 4,
     "metadata": {},
     "output_type": "execute_result"
    }
   ],
   "source": [
    "ds4_test.head(5)"
   ]
  },
  {
   "cell_type": "code",
   "execution_count": 5,
   "metadata": {
    "scrolled": false
   },
   "outputs": [
    {
     "data": {
      "text/html": [
       "<div>\n",
       "<style scoped>\n",
       "    .dataframe tbody tr th:only-of-type {\n",
       "        vertical-align: middle;\n",
       "    }\n",
       "\n",
       "    .dataframe tbody tr th {\n",
       "        vertical-align: top;\n",
       "    }\n",
       "\n",
       "    .dataframe thead th {\n",
       "        text-align: right;\n",
       "    }\n",
       "</style>\n",
       "<table border=\"1\" class=\"dataframe\">\n",
       "  <thead>\n",
       "    <tr style=\"text-align: right;\">\n",
       "      <th></th>\n",
       "      <th>0</th>\n",
       "      <th>1</th>\n",
       "      <th>2</th>\n",
       "      <th>3</th>\n",
       "      <th>4</th>\n",
       "      <th>5</th>\n",
       "      <th>6</th>\n",
       "      <th>7</th>\n",
       "      <th>8</th>\n",
       "      <th>9</th>\n",
       "      <th>...</th>\n",
       "      <th>55</th>\n",
       "      <th>56</th>\n",
       "      <th>57</th>\n",
       "      <th>58</th>\n",
       "      <th>59</th>\n",
       "      <th>60</th>\n",
       "      <th>61</th>\n",
       "      <th>62</th>\n",
       "      <th>63</th>\n",
       "      <th>64</th>\n",
       "    </tr>\n",
       "  </thead>\n",
       "  <tbody>\n",
       "    <tr>\n",
       "      <th>0</th>\n",
       "      <td>0</td>\n",
       "      <td>1</td>\n",
       "      <td>6</td>\n",
       "      <td>15</td>\n",
       "      <td>12</td>\n",
       "      <td>1</td>\n",
       "      <td>0</td>\n",
       "      <td>0</td>\n",
       "      <td>0</td>\n",
       "      <td>7</td>\n",
       "      <td>...</td>\n",
       "      <td>0</td>\n",
       "      <td>0</td>\n",
       "      <td>0</td>\n",
       "      <td>6</td>\n",
       "      <td>14</td>\n",
       "      <td>7</td>\n",
       "      <td>1</td>\n",
       "      <td>0</td>\n",
       "      <td>0</td>\n",
       "      <td>0</td>\n",
       "    </tr>\n",
       "    <tr>\n",
       "      <th>1</th>\n",
       "      <td>0</td>\n",
       "      <td>0</td>\n",
       "      <td>10</td>\n",
       "      <td>16</td>\n",
       "      <td>6</td>\n",
       "      <td>0</td>\n",
       "      <td>0</td>\n",
       "      <td>0</td>\n",
       "      <td>0</td>\n",
       "      <td>7</td>\n",
       "      <td>...</td>\n",
       "      <td>0</td>\n",
       "      <td>0</td>\n",
       "      <td>0</td>\n",
       "      <td>10</td>\n",
       "      <td>16</td>\n",
       "      <td>15</td>\n",
       "      <td>3</td>\n",
       "      <td>0</td>\n",
       "      <td>0</td>\n",
       "      <td>0</td>\n",
       "    </tr>\n",
       "    <tr>\n",
       "      <th>2</th>\n",
       "      <td>0</td>\n",
       "      <td>0</td>\n",
       "      <td>8</td>\n",
       "      <td>15</td>\n",
       "      <td>16</td>\n",
       "      <td>13</td>\n",
       "      <td>0</td>\n",
       "      <td>0</td>\n",
       "      <td>0</td>\n",
       "      <td>1</td>\n",
       "      <td>...</td>\n",
       "      <td>0</td>\n",
       "      <td>0</td>\n",
       "      <td>0</td>\n",
       "      <td>9</td>\n",
       "      <td>14</td>\n",
       "      <td>0</td>\n",
       "      <td>0</td>\n",
       "      <td>0</td>\n",
       "      <td>0</td>\n",
       "      <td>7</td>\n",
       "    </tr>\n",
       "    <tr>\n",
       "      <th>3</th>\n",
       "      <td>0</td>\n",
       "      <td>0</td>\n",
       "      <td>0</td>\n",
       "      <td>3</td>\n",
       "      <td>11</td>\n",
       "      <td>16</td>\n",
       "      <td>0</td>\n",
       "      <td>0</td>\n",
       "      <td>0</td>\n",
       "      <td>0</td>\n",
       "      <td>...</td>\n",
       "      <td>0</td>\n",
       "      <td>0</td>\n",
       "      <td>0</td>\n",
       "      <td>0</td>\n",
       "      <td>1</td>\n",
       "      <td>15</td>\n",
       "      <td>2</td>\n",
       "      <td>0</td>\n",
       "      <td>0</td>\n",
       "      <td>4</td>\n",
       "    </tr>\n",
       "    <tr>\n",
       "      <th>4</th>\n",
       "      <td>0</td>\n",
       "      <td>0</td>\n",
       "      <td>5</td>\n",
       "      <td>14</td>\n",
       "      <td>4</td>\n",
       "      <td>0</td>\n",
       "      <td>0</td>\n",
       "      <td>0</td>\n",
       "      <td>0</td>\n",
       "      <td>0</td>\n",
       "      <td>...</td>\n",
       "      <td>0</td>\n",
       "      <td>0</td>\n",
       "      <td>0</td>\n",
       "      <td>4</td>\n",
       "      <td>12</td>\n",
       "      <td>14</td>\n",
       "      <td>7</td>\n",
       "      <td>0</td>\n",
       "      <td>0</td>\n",
       "      <td>6</td>\n",
       "    </tr>\n",
       "  </tbody>\n",
       "</table>\n",
       "<p>5 rows × 65 columns</p>\n",
       "</div>"
      ],
      "text/plain": [
       "   0   1   2   3   4   5   6   7   8   9   ...  55  56  57  58  59  60  61  \\\n",
       "0   0   1   6  15  12   1   0   0   0   7  ...   0   0   0   6  14   7   1   \n",
       "1   0   0  10  16   6   0   0   0   0   7  ...   0   0   0  10  16  15   3   \n",
       "2   0   0   8  15  16  13   0   0   0   1  ...   0   0   0   9  14   0   0   \n",
       "3   0   0   0   3  11  16   0   0   0   0  ...   0   0   0   0   1  15   2   \n",
       "4   0   0   5  14   4   0   0   0   0   0  ...   0   0   0   4  12  14   7   \n",
       "\n",
       "   62  63  64  \n",
       "0   0   0   0  \n",
       "1   0   0   0  \n",
       "2   0   0   7  \n",
       "3   0   0   4  \n",
       "4   0   0   6  \n",
       "\n",
       "[5 rows x 65 columns]"
      ]
     },
     "execution_count": 5,
     "metadata": {},
     "output_type": "execute_result"
    }
   ],
   "source": [
    "ds4_train.head(5)"
   ]
  },
  {
   "cell_type": "markdown",
   "metadata": {},
   "source": [
    "## Train and Test Data"
   ]
  },
  {
   "cell_type": "code",
   "execution_count": 6,
   "metadata": {},
   "outputs": [],
   "source": [
    "X_train = ds4_train.loc[:: ,:63]\n",
    "y_train = ds4_train.loc[:: ,64]\n",
    "\n",
    "X_test = ds4_test.loc[:: ,:63]\n",
    "y_test = ds4_test.loc[:: ,64]"
   ]
  },
  {
   "cell_type": "markdown",
   "metadata": {},
   "source": [
    "## Selected Parameters"
   ]
  },
  {
   "cell_type": "code",
   "execution_count": 7,
   "metadata": {},
   "outputs": [],
   "source": [
    "param_grid_sgb = dict(max_depth = [2,3,5,7,10],\n",
    "                  learning_rate = [0.1, 0.2, 0.5, 0.7],\n",
    "                  n_estimators = [10,30,50,100,200])\n",
    "param_grid_tree = dict(ccp_alpha = [0.001, 0.002, 0.003, 0.004], \n",
    "                       min_samples_leaf = [2,3,5,7,10])\n",
    "param_grid_rf = dict(n_estimators = [500],\n",
    "                     min_samples_leaf = [5],\n",
    "                     max_features = [2,8,10,30,40,50])"
   ]
  },
  {
   "cell_type": "code",
   "execution_count": 8,
   "metadata": {},
   "outputs": [],
   "source": [
    "kfold = KFold(n_splits = 10, shuffle = True, random_state = 42)"
   ]
  },
  {
   "cell_type": "markdown",
   "metadata": {},
   "source": [
    "# Classifiers and Regressors"
   ]
  },
  {
   "cell_type": "markdown",
   "metadata": {},
   "source": [
    "#### Lasso"
   ]
  },
  {
   "cell_type": "code",
   "execution_count": 47,
   "metadata": {},
   "outputs": [
    {
     "data": {
      "text/plain": [
       "0.005605014160132827"
      ]
     },
     "execution_count": 47,
     "metadata": {},
     "output_type": "execute_result"
    }
   ],
   "source": [
    "#Lasso\n",
    "lasso_reg = LassoCV(cv = kfold)\n",
    "lasso_reg = lasso_reg.fit(np.array(X_train), np.array(y_train))\n",
    "lasso_reg.alpha_"
   ]
  },
  {
   "cell_type": "code",
   "execution_count": 48,
   "metadata": {
    "scrolled": true
   },
   "outputs": [
    {
     "name": "stdout",
     "output_type": "stream",
     "text": [
      "7.620738322546095e-05\n"
     ]
    }
   ],
   "source": [
    "p_lasso_val = lasso_reg.predict(np.array(X_test))\n",
    "#p_lasso_val = np.where(p_lasso_val > 0.5, 1, 0).tolist()\n",
    "print(r2_score(p_lasso_val, y_test) / len(y_test))"
   ]
  },
  {
   "cell_type": "code",
   "execution_count": 49,
   "metadata": {},
   "outputs": [],
   "source": [
    "def lasso_correction(prediction_val):\n",
    "    if prediction_val >= 8.5 : \n",
    "        prediction_val = 9\n",
    "    elif prediction_val >= 7.5 : \n",
    "        prediction_val = 8\n",
    "    elif prediction_val >= 6.5 : \n",
    "        prediction_val = 7\n",
    "    elif prediction_val >= 5.5 : \n",
    "        prediction_val = 6\n",
    "    elif prediction_val >= 4.5 : \n",
    "        prediction_val = 5\n",
    "    elif prediction_val >= 3.5 : \n",
    "        prediction_val = 4\n",
    "    elif prediction_val >= 2.5 : \n",
    "        prediction_val = 3\n",
    "    elif prediction_val >= 1.5 : \n",
    "        prediction_val = 2\n",
    "    elif prediction_val >= 0.5 : \n",
    "        prediction_val = 1\n",
    "    else :\n",
    "        prediction_val=0\n",
    "    return prediction_val     "
   ]
  },
  {
   "cell_type": "code",
   "execution_count": 50,
   "metadata": {},
   "outputs": [
    {
     "data": {
      "text/html": [
       "<div>\n",
       "<style scoped>\n",
       "    .dataframe tbody tr th:only-of-type {\n",
       "        vertical-align: middle;\n",
       "    }\n",
       "\n",
       "    .dataframe tbody tr th {\n",
       "        vertical-align: top;\n",
       "    }\n",
       "\n",
       "    .dataframe thead th {\n",
       "        text-align: right;\n",
       "    }\n",
       "</style>\n",
       "<table border=\"1\" class=\"dataframe\">\n",
       "  <thead>\n",
       "    <tr style=\"text-align: right;\">\n",
       "      <th></th>\n",
       "      <th>0</th>\n",
       "    </tr>\n",
       "  </thead>\n",
       "  <tbody>\n",
       "    <tr>\n",
       "      <th>0</th>\n",
       "      <td>2.884449</td>\n",
       "    </tr>\n",
       "    <tr>\n",
       "      <th>1</th>\n",
       "      <td>1.055901</td>\n",
       "    </tr>\n",
       "    <tr>\n",
       "      <th>2</th>\n",
       "      <td>1.737564</td>\n",
       "    </tr>\n",
       "    <tr>\n",
       "      <th>3</th>\n",
       "      <td>3.067995</td>\n",
       "    </tr>\n",
       "    <tr>\n",
       "      <th>4</th>\n",
       "      <td>4.114187</td>\n",
       "    </tr>\n",
       "    <tr>\n",
       "      <th>...</th>\n",
       "      <td>...</td>\n",
       "    </tr>\n",
       "    <tr>\n",
       "      <th>1792</th>\n",
       "      <td>7.067875</td>\n",
       "    </tr>\n",
       "    <tr>\n",
       "      <th>1793</th>\n",
       "      <td>1.908901</td>\n",
       "    </tr>\n",
       "    <tr>\n",
       "      <th>1794</th>\n",
       "      <td>5.321360</td>\n",
       "    </tr>\n",
       "    <tr>\n",
       "      <th>1795</th>\n",
       "      <td>4.832469</td>\n",
       "    </tr>\n",
       "    <tr>\n",
       "      <th>1796</th>\n",
       "      <td>7.075246</td>\n",
       "    </tr>\n",
       "  </tbody>\n",
       "</table>\n",
       "<p>1797 rows × 1 columns</p>\n",
       "</div>"
      ],
      "text/plain": [
       "             0\n",
       "0     2.884449\n",
       "1     1.055901\n",
       "2     1.737564\n",
       "3     3.067995\n",
       "4     4.114187\n",
       "...        ...\n",
       "1792  7.067875\n",
       "1793  1.908901\n",
       "1794  5.321360\n",
       "1795  4.832469\n",
       "1796  7.075246\n",
       "\n",
       "[1797 rows x 1 columns]"
      ]
     },
     "execution_count": 50,
     "metadata": {},
     "output_type": "execute_result"
    }
   ],
   "source": [
    "lasso_df = pd.DataFrame(p_lasso_val)\n",
    "lasso_df"
   ]
  },
  {
   "cell_type": "code",
   "execution_count": 51,
   "metadata": {
    "scrolled": true
   },
   "outputs": [],
   "source": [
    "p_lasso_val = lasso_df.loc[::,0].apply(lasso_correction)"
   ]
  },
  {
   "cell_type": "code",
   "execution_count": 52,
   "metadata": {},
   "outputs": [
    {
     "data": {
      "text/plain": [
       "0       3\n",
       "1       1\n",
       "2       2\n",
       "3       3\n",
       "4       4\n",
       "       ..\n",
       "1792    7\n",
       "1793    2\n",
       "1794    5\n",
       "1795    5\n",
       "1796    7\n",
       "Name: 0, Length: 1797, dtype: int64"
      ]
     },
     "execution_count": 52,
     "metadata": {},
     "output_type": "execute_result"
    }
   ],
   "source": [
    "p_lasso_val"
   ]
  },
  {
   "cell_type": "markdown",
   "metadata": {},
   "source": [
    "#### Decision Tree"
   ]
  },
  {
   "cell_type": "code",
   "execution_count": 11,
   "metadata": {},
   "outputs": [],
   "source": [
    "tree_clf = DecisionTreeClassifier()\n",
    "grid_search_tree_clf = GridSearchCV(tree_clf, param_grid_tree, cv = kfold )\n",
    "results_tree_clf = grid_search_tree_clf.fit(np.array(X_train), np.array(y_train))\n",
    "\n",
    "#tree_reg = DecisionTreeRegressor()\n",
    "#grid_search_tree_reg = GridSearchCV(tree_reg, param_grid_tree, cv = kfold)\n",
    "#results_tree_reg = grid_search_tree_reg.fit(np.array(X_train), np.array(y_train))\n"
   ]
  },
  {
   "cell_type": "markdown",
   "metadata": {},
   "source": [
    "#### Random Forest"
   ]
  },
  {
   "cell_type": "code",
   "execution_count": 12,
   "metadata": {},
   "outputs": [],
   "source": [
    "rf_clf = RandomForestClassifier()\n",
    "grid_search_rf_clf = GridSearchCV(rf_clf, param_grid_rf, cv = kfold )\n",
    "results_rf_clf = grid_search_rf_clf.fit(np.array(X_train), np.array((y_train)))\n",
    "\n",
    "#rf_reg = RandomForestRegressor()\n",
    "#grid_search_rf_reg = GridSearchCV(rf_reg, param_grid_rf, cv = kfold)\n",
    "#results_rf_reg = grid_search_rf_reg.fit(np.array(X_train), np.array(y_train))\n"
   ]
  },
  {
   "cell_type": "markdown",
   "metadata": {},
   "source": [
    "#### Stochastic Gradient Boosting"
   ]
  },
  {
   "cell_type": "code",
   "execution_count": 13,
   "metadata": {},
   "outputs": [],
   "source": [
    "sgb_classifier = xgboost.XGBClassifier(min_child_weight=10, verbosity = 0)\n",
    "grid_search_clf = GridSearchCV(sgb_classifier, param_grid_sgb, cv = kfold)\n",
    "results_sgb_clf = grid_search_clf.fit(np.array(X_train), np.array(y_train))\n",
    "\n",
    "#sgb_regressor = xgboost.XGBRegressor(min_child_weight=10)\n",
    "#grid_search = GridSearchCV(sgb_regressor, param_grid_sgb, cv = kfold )\n",
    "#results_sgb_reg = grid_search.fit(np.array(X_train), np.array(y_train))"
   ]
  },
  {
   "cell_type": "markdown",
   "metadata": {},
   "source": [
    "### Best Parameters"
   ]
  },
  {
   "cell_type": "code",
   "execution_count": 53,
   "metadata": {},
   "outputs": [
    {
     "name": "stdout",
     "output_type": "stream",
     "text": [
      "Best parameters of \n",
      "\n",
      "Alpha Value of Lasso: \n",
      "0.005605014160132827\n",
      "\n",
      "Best parameters of Decision Tree: \n",
      "{'ccp_alpha': 0.001, 'min_samples_leaf': 2}\n",
      "\n",
      "Best parameters of Random Tree: \n",
      "{'max_features': 8, 'min_samples_leaf': 5, 'n_estimators': 500}\n",
      "\n",
      "Best parameters of Stochastic Gradient Boosting: \n",
      "{'learning_rate': 0.1, 'max_depth': 10, 'n_estimators': 200}\n",
      "\n"
     ]
    }
   ],
   "source": [
    "#Classification\n",
    "print(\"Best parameters of \\n\")\n",
    "print(\"Alpha Value of Lasso: \\n{}\\n\".format(lasso_reg.alpha_))\n",
    "print(\"Best parameters of Decision Tree: \\n{}\\n\".format(results_tree_clf.best_params_))\n",
    "print(\"Best parameters of Random Tree: \\n{}\\n\".format(results_rf_clf.best_params_))\n",
    "print(\"Best parameters of Stochastic Gradient Boosting: \\n{}\\n\".format(results_sgb_clf.best_params_))\n",
    "\n",
    "#Regression\n",
    "#print(\"Alpha Value of Lasso: \\n{}\\n\".format(lasso_reg.alpha_))\n",
    "#print(\"Best parameters of Decision Tree: \\n{}\\n\".format(results_tree_reg.best_params_))\n",
    "#print(\"Best parameters of Random Tree: \\n{}\\n\".format(results_rf_reg.best_params_))\n",
    "#print(\"Best parameters of Stochastic Gradient Boosting: \\n{}\\n\".format(results_sgb_reg.best_params_))"
   ]
  },
  {
   "cell_type": "markdown",
   "metadata": {},
   "source": [
    "### Accuracy Score and  Best Score"
   ]
  },
  {
   "cell_type": "code",
   "execution_count": 54,
   "metadata": {
    "scrolled": true
   },
   "outputs": [
    {
     "data": {
      "text/html": [
       "<div>\n",
       "<style scoped>\n",
       "    .dataframe tbody tr th:only-of-type {\n",
       "        vertical-align: middle;\n",
       "    }\n",
       "\n",
       "    .dataframe tbody tr th {\n",
       "        vertical-align: top;\n",
       "    }\n",
       "\n",
       "    .dataframe thead th {\n",
       "        text-align: right;\n",
       "    }\n",
       "</style>\n",
       "<table border=\"1\" class=\"dataframe\">\n",
       "  <thead>\n",
       "    <tr style=\"text-align: right;\">\n",
       "      <th></th>\n",
       "      <th>Models</th>\n",
       "      <th>Accuracy Score</th>\n",
       "      <th>Best Score</th>\n",
       "    </tr>\n",
       "  </thead>\n",
       "  <tbody>\n",
       "    <tr>\n",
       "      <th>0</th>\n",
       "      <td>LassoCV</td>\n",
       "      <td>0.213689</td>\n",
       "      <td>NaN</td>\n",
       "    </tr>\n",
       "    <tr>\n",
       "      <th>1</th>\n",
       "      <td>Decision Tree</td>\n",
       "      <td>0.849193</td>\n",
       "      <td>0.899027</td>\n",
       "    </tr>\n",
       "    <tr>\n",
       "      <th>2</th>\n",
       "      <td>Random Forest</td>\n",
       "      <td>0.967724</td>\n",
       "      <td>0.975935</td>\n",
       "    </tr>\n",
       "    <tr>\n",
       "      <th>3</th>\n",
       "      <td>Stochastic Gradient Boosting</td>\n",
       "      <td>0.957151</td>\n",
       "      <td>0.976717</td>\n",
       "    </tr>\n",
       "  </tbody>\n",
       "</table>\n",
       "</div>"
      ],
      "text/plain": [
       "                         Models  Accuracy Score  Best Score\n",
       "0                       LassoCV        0.213689         NaN\n",
       "1                 Decision Tree        0.849193    0.899027\n",
       "2                 Random Forest        0.967724    0.975935\n",
       "3  Stochastic Gradient Boosting        0.957151    0.976717"
      ]
     },
     "execution_count": 54,
     "metadata": {},
     "output_type": "execute_result"
    }
   ],
   "source": [
    "d = [\"LassoCV\", \"Decision Tree\",\"Random Forest\",\"Stochastic Gradient Boosting\"]\n",
    "score_table = pd.DataFrame(d, columns=['Models'])\n",
    "\n",
    "accuracy_list = [accuracy_score(p_lasso_val,(y_test)),\n",
    "                 accuracy_score(results_tree_clf.best_estimator_.predict(np.array(X_test)),(y_test)),\n",
    "                 accuracy_score(results_rf_clf.best_estimator_.predict(np.array(X_test)), (y_test)),\n",
    "                 accuracy_score(results_sgb_clf.best_estimator_.predict(np.array(X_test)), (y_test))]\n",
    "\n",
    "score_table['Accuracy Score'] = accuracy_list\n",
    "\n",
    "bestscore_list = [np.nan, results_tree_clf.best_score_, results_rf_clf.best_score_, results_sgb_clf.best_score_]\n",
    "score_table['Best Score'] = bestscore_list\n",
    "score_table"
   ]
  },
  {
   "cell_type": "markdown",
   "metadata": {},
   "source": [
    "### Classification Report"
   ]
  },
  {
   "cell_type": "code",
   "execution_count": 55,
   "metadata": {
    "scrolled": true
   },
   "outputs": [
    {
     "name": "stdout",
     "output_type": "stream",
     "text": [
      "Decision Tree\n",
      "              precision    recall  f1-score   support\n",
      "\n",
      "           0       0.95      0.94      0.94       178\n",
      "           1       0.82      0.88      0.85       182\n",
      "           2       0.81      0.81      0.81       177\n",
      "           3       0.85      0.79      0.82       183\n",
      "           4       0.79      0.79      0.79       181\n",
      "           5       0.93      0.86      0.89       182\n",
      "           6       0.92      0.96      0.94       181\n",
      "           7       0.88      0.79      0.83       179\n",
      "           8       0.77      0.84      0.81       174\n",
      "           9       0.79      0.83      0.81       180\n",
      "\n",
      "    accuracy                           0.85      1797\n",
      "   macro avg       0.85      0.85      0.85      1797\n",
      "weighted avg       0.85      0.85      0.85      1797\n",
      "\n",
      "Random Forest\n",
      "              precision    recall  f1-score   support\n",
      "\n",
      "           0       0.98      0.99      0.99       178\n",
      "           1       0.95      0.98      0.96       182\n",
      "           2       0.99      0.99      0.99       177\n",
      "           3       0.98      0.95      0.97       183\n",
      "           4       0.97      1.00      0.99       181\n",
      "           5       0.97      0.97      0.97       182\n",
      "           6       0.99      0.97      0.98       181\n",
      "           7       0.98      0.92      0.95       179\n",
      "           8       0.94      0.95      0.95       174\n",
      "           9       0.90      0.95      0.93       180\n",
      "\n",
      "    accuracy                           0.97      1797\n",
      "   macro avg       0.97      0.97      0.97      1797\n",
      "weighted avg       0.97      0.97      0.97      1797\n",
      "\n",
      "Stochastic Gradient Boost\n",
      "              precision    recall  f1-score   support\n",
      "\n",
      "           0       0.99      0.97      0.98       178\n",
      "           1       0.96      0.97      0.96       182\n",
      "           2       1.00      0.99      1.00       177\n",
      "           3       0.96      0.95      0.95       183\n",
      "           4       0.98      0.98      0.98       181\n",
      "           5       0.93      0.96      0.94       182\n",
      "           6       0.99      0.97      0.98       181\n",
      "           7       0.96      0.92      0.94       179\n",
      "           8       0.94      0.93      0.93       174\n",
      "           9       0.88      0.93      0.90       180\n",
      "\n",
      "    accuracy                           0.96      1797\n",
      "   macro avg       0.96      0.96      0.96      1797\n",
      "weighted avg       0.96      0.96      0.96      1797\n",
      "\n"
     ]
    }
   ],
   "source": [
    "from sklearn.metrics import classification_report\n",
    "print('Decision Tree')\n",
    "print(classification_report(y_test,results_tree_clf.best_estimator_.predict(np.array(X_test))))\n",
    "print('Random Forest')\n",
    "print(classification_report(y_test,results_rf_clf.best_estimator_.predict(np.array(X_test))))\n",
    "print('Stochastic Gradient Boost')\n",
    "print(classification_report(y_test,results_sgb_clf.best_estimator_.predict(np.array(X_test))))"
   ]
  },
  {
   "cell_type": "code",
   "execution_count": 56,
   "metadata": {},
   "outputs": [
    {
     "name": "stdout",
     "output_type": "stream",
     "text": [
      "7.107925077575349e-05\n"
     ]
    }
   ],
   "source": [
    "print(r2_score(p_lasso_val, y_test) / len(y_test))"
   ]
  },
  {
   "cell_type": "markdown",
   "metadata": {},
   "source": [
    "# Comment Section"
   ]
  },
  {
   "cell_type": "markdown",
   "metadata": {},
   "source": [
    "In this particular data set, it is obvious that tree-based models work better than lasso model considering. Lasso regression gives the worst result with very low accuracy score. In tree-based models, accuracy scores are quite well however there may be overfitting since the accuracy scores are higher than %95.\n",
    "\n",
    "The best models for this particular data set are random forest and stochastic gradient boosting according to corresponding accuracy scores. Even though it took quite long time to fit the model for both of them, decision tree worked very fast. Unfortunately, there is an obvious difference between accuracy score of the random forest and other tree-based models. Thus, I would choose the random forest because it works faster than sgb and gives better results."
   ]
  }
 ],
 "metadata": {
  "kernelspec": {
   "display_name": "Python 3",
   "language": "python",
   "name": "python3"
  },
  "language_info": {
   "codemirror_mode": {
    "name": "ipython",
    "version": 3
   },
   "file_extension": ".py",
   "mimetype": "text/x-python",
   "name": "python",
   "nbconvert_exporter": "python",
   "pygments_lexer": "ipython3",
   "version": "3.8.5"
  }
 },
 "nbformat": 4,
 "nbformat_minor": 4
}
